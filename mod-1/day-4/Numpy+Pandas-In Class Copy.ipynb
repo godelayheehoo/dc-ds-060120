{
 "cells": [
  {
   "cell_type": "markdown",
   "metadata": {},
   "source": [
    "This notebook is inspired from:\n",
    "[Jake VanderPlas - Python Data Science Handbook](https://jakevdp.github.io/PythonDataScienceHandbook/index.html)"
   ]
  },
  {
   "cell_type": "markdown",
   "metadata": {},
   "source": [
    "# Numpy"
   ]
  },
  {
   "cell_type": "code",
   "execution_count": 6,
   "metadata": {},
   "outputs": [
    {
     "data": {
      "text/plain": [
       "'1.16.5'"
      ]
     },
     "execution_count": 6,
     "metadata": {},
     "output_type": "execute_result"
    }
   ],
   "source": [
    "## importing numpy\n",
    "import numpy as np\n",
    "\n",
    "np.__version__"
   ]
  },
  {
   "cell_type": "markdown",
   "metadata": {},
   "source": [
    "## Creating Numpy Arrays"
   ]
  },
  {
   "cell_type": "markdown",
   "metadata": {},
   "source": [
    "__From lists__"
   ]
  },
  {
   "cell_type": "code",
   "execution_count": 22,
   "metadata": {},
   "outputs": [
    {
     "data": {
      "text/plain": [
       "(1, 2)"
      ]
     },
     "execution_count": 22,
     "metadata": {},
     "output_type": "execute_result"
    }
   ],
   "source": [
    "np.array([[[4, 1, 7],[ 13, 2.76]]]).shape"
   ]
  },
  {
   "cell_type": "code",
   "execution_count": 10,
   "metadata": {},
   "outputs": [
    {
     "data": {
      "text/plain": [
       "numpy.ndarray"
      ]
     },
     "execution_count": 10,
     "metadata": {},
     "output_type": "execute_result"
    }
   ],
   "source": [
    "# if we want we can also specify the data types\n",
    "type(my_array1)\n"
   ]
  },
  {
   "cell_type": "code",
   "execution_count": 17,
   "metadata": {},
   "outputs": [
    {
     "name": "stdout",
     "output_type": "stream",
     "text": [
      "(5,)\n",
      "(1, 5)\n"
     ]
    }
   ],
   "source": [
    "my_array1=np.array([4, 1, 7, 13, 2.76])\n",
    "print(my_array1.shape)\n",
    "#A 'one-dimensional array'\n",
    "\n",
    "#A 'two dimensional array is what is wanted, so nest the first row as a list: \n",
    "my_array1=np.array([[4, 1, 7, 13, 2.76]])\n",
    "print(my_array1.shape)"
   ]
  },
  {
   "cell_type": "code",
   "execution_count": 25,
   "metadata": {},
   "outputs": [
    {
     "ename": "OverflowError",
     "evalue": "Python int too large to convert to C long",
     "output_type": "error",
     "traceback": [
      "\u001b[1;31m---------------------------------------------------------------------------\u001b[0m",
      "\u001b[1;31mOverflowError\u001b[0m                             Traceback (most recent call last)",
      "\u001b[1;32m<ipython-input-25-a0c14b928a39>\u001b[0m in \u001b[0;36m<module>\u001b[1;34m\u001b[0m\n\u001b[1;32m----> 1\u001b[1;33m \u001b[0mmy_1d_array\u001b[0m\u001b[1;33m=\u001b[0m\u001b[0mnp\u001b[0m\u001b[1;33m.\u001b[0m\u001b[0marray\u001b[0m\u001b[1;33m(\u001b[0m\u001b[1;33m[\u001b[0m\u001b[1;36m12\u001b[0m\u001b[1;33m,\u001b[0m\u001b[1;36m27\u001b[0m\u001b[1;33m,\u001b[0m\u001b[1;36m33.3\u001b[0m\u001b[1;33m,\u001b[0m\u001b[1;36m1e56\u001b[0m\u001b[1;33m]\u001b[0m\u001b[1;33m,\u001b[0m\u001b[0mdtype\u001b[0m\u001b[1;33m=\u001b[0m\u001b[1;34m'int32'\u001b[0m\u001b[1;33m)\u001b[0m\u001b[1;33m\u001b[0m\u001b[1;33m\u001b[0m\u001b[0m\n\u001b[0m",
      "\u001b[1;31mOverflowError\u001b[0m: Python int too large to convert to C long"
     ]
    }
   ],
   "source": [
    "my_1d_array=np.array([12,27,33.3,1e56],dtype='int32')"
   ]
  },
  {
   "cell_type": "markdown",
   "metadata": {},
   "source": [
    "Marat mentioned that the naming above is dangerous.  Is that because of it ending in \"array\" or something else? "
   ]
  },
  {
   "cell_type": "code",
   "execution_count": 34,
   "metadata": {},
   "outputs": [
    {
     "name": "stdout",
     "output_type": "stream",
     "text": [
      "[1 2 4 4]\n"
     ]
    }
   ],
   "source": [
    "# but aware that they have certain range and limitations\n",
    "\n",
    "array1=np.array([1,2,3,4],dtype='int32')\n",
    "\n",
    "array1[2]=4.5\n",
    "\n",
    "print(array1)\n",
    "\n",
    "#Notice the \"4.5\" becomes \"4\" because the d-type is integer.  Easy mistake to make. "
   ]
  },
  {
   "cell_type": "markdown",
   "metadata": {},
   "source": [
    "Unlike lists, arrays can be multidimensional"
   ]
  },
  {
   "cell_type": "code",
   "execution_count": 50,
   "metadata": {},
   "outputs": [],
   "source": [
    "multidim = np.array([[1,2,3,12],\n",
    "          [4,5,6,11], \n",
    "          [7,8,9,10]])"
   ]
  },
  {
   "cell_type": "code",
   "execution_count": 51,
   "metadata": {},
   "outputs": [
    {
     "data": {
      "text/plain": [
       "(3, 4)"
      ]
     },
     "execution_count": 51,
     "metadata": {},
     "output_type": "execute_result"
    }
   ],
   "source": [
    "multidim.shape"
   ]
  },
  {
   "cell_type": "markdown",
   "metadata": {},
   "source": [
    "__From Scratch__"
   ]
  },
  {
   "cell_type": "code",
   "execution_count": 55,
   "metadata": {},
   "outputs": [
    {
     "data": {
      "text/plain": [
       "array([[0, 0, 0, 0, 0, 0],\n",
       "       [0, 0, 0, 0, 0, 0]])"
      ]
     },
     "execution_count": 55,
     "metadata": {},
     "output_type": "execute_result"
    }
   ],
   "source": [
    "# we can create a numpy array with zeros of any shape\n",
    "np.zeros((2,6),dtype='int')"
   ]
  },
  {
   "cell_type": "code",
   "execution_count": 56,
   "metadata": {},
   "outputs": [
    {
     "data": {
      "text/plain": [
       "array([[0., 0., 0., 0., 0., 0.],\n",
       "       [0., 0., 0., 0., 0., 0.]])"
      ]
     },
     "execution_count": 56,
     "metadata": {},
     "output_type": "execute_result"
    }
   ],
   "source": [
    "## Again we can pass the dtype\n",
    "\n",
    "np.zeros((2,6), dtype = float)"
   ]
  },
  {
   "cell_type": "code",
   "execution_count": 54,
   "metadata": {},
   "outputs": [
    {
     "data": {
      "text/plain": [
       "array([[0.23, 0.23, 0.23, 0.23, 0.23, 0.23, 0.23],\n",
       "       [0.23, 0.23, 0.23, 0.23, 0.23, 0.23, 0.23],\n",
       "       [0.23, 0.23, 0.23, 0.23, 0.23, 0.23, 0.23]])"
      ]
     },
     "execution_count": 54,
     "metadata": {},
     "output_type": "execute_result"
    }
   ],
   "source": [
    "# we can create an array of any shape filled with any number:\n",
    "\n",
    "np.full((3, 7), .23)"
   ]
  },
  {
   "cell_type": "code",
   "execution_count": null,
   "metadata": {},
   "outputs": [],
   "source": [
    "## np.ones?"
   ]
  },
  {
   "cell_type": "markdown",
   "metadata": {},
   "source": [
    "Other useful methods for creating arrays:\n",
    "\n",
    "- `np.arange`\n",
    "\n",
    "- `np.linspace`\n",
    "\n",
    "- `np.random.random`"
   ]
  },
  {
   "cell_type": "code",
   "execution_count": 72,
   "metadata": {},
   "outputs": [
    {
     "data": {
      "text/plain": [
       "array([61.46123348, 59.46941892, 55.7618402 , 56.37112647, 55.81517929,\n",
       "       54.60465191, 59.1076216 , 59.78989069, 63.67027464, 58.13993626,\n",
       "       57.86798824, 58.36404236, 61.91210936, 56.72190072, 54.62334182,\n",
       "       56.97104371, 57.84324903, 58.42956391, 58.89233663, 57.4280111 ,\n",
       "       58.80343375, 58.15107797, 54.71583329, 56.99999088, 57.08767455,\n",
       "       59.53863949, 56.39476232, 58.48987511, 60.37222878, 58.18919414,\n",
       "       56.57130215, 60.88122428, 57.9385345 , 57.92748443, 55.98434768,\n",
       "       56.18409166, 56.82718215, 58.49789171, 59.55515551, 57.87865809,\n",
       "       58.7584975 , 57.97579045, 55.68352961, 54.19206212, 57.81393173,\n",
       "       56.82881993, 57.40822022, 57.53983797, 60.13893494, 58.55511773,\n",
       "       59.90332113, 55.67056129, 59.08422343, 55.20523654, 56.00361986,\n",
       "       61.54307697, 60.49903676, 59.68503359, 57.43337322, 56.54733036,\n",
       "       59.69477963, 59.33785759, 56.91577988, 61.21905782, 60.78113175,\n",
       "       55.2434523 , 58.20036807, 58.17455494, 55.79278279, 59.43813223,\n",
       "       56.98657876, 55.11912378, 58.95314162, 56.93049619, 61.82190632,\n",
       "       58.31496974, 57.93272432, 60.10112103, 56.86993467, 58.65668924,\n",
       "       56.96587117, 55.86300143, 59.20904154, 56.84533186, 59.60681827,\n",
       "       55.34895016, 57.71929085, 56.72970307, 61.23813448, 56.82238674,\n",
       "       55.33734366, 56.49260675, 57.87456091, 56.18657531, 59.39692239,\n",
       "       55.0014573 , 57.79999955, 61.46408108, 58.70219967, 62.68506186])"
      ]
     },
     "execution_count": 72,
     "metadata": {},
     "output_type": "execute_result"
    }
   ],
   "source": [
    "np.arange(5,25,3)\n",
    " \n",
    "np.linspace(0,1,5)\n",
    "\n",
    "np.random.random(size=(10)) # 10 random numbers, uniform distribution\n",
    "\n",
    "np.random.randn(10) #normal distribution\n",
    "\n",
    "np.random.normal(loc=58, scale=2, size=100)"
   ]
  },
  {
   "cell_type": "markdown",
   "metadata": {},
   "source": [
    "## Descriptive Statistics with Numpy"
   ]
  },
  {
   "cell_type": "code",
   "execution_count": null,
   "metadata": {},
   "outputs": [],
   "source": [
    "## let's create a sample from normally distributed population of size = 10"
   ]
  },
  {
   "cell_type": "code",
   "execution_count": 75,
   "metadata": {},
   "outputs": [],
   "source": [
    "sample1=np.random.normal(loc=10,scale=1,size=10)\n"
   ]
  },
  {
   "cell_type": "code",
   "execution_count": null,
   "metadata": {},
   "outputs": [],
   "source": [
    "## what is the mean of sample1?"
   ]
  },
  {
   "cell_type": "code",
   "execution_count": 76,
   "metadata": {},
   "outputs": [
    {
     "data": {
      "text/plain": [
       "9.719454428831654"
      ]
     },
     "execution_count": 76,
     "metadata": {},
     "output_type": "execute_result"
    }
   ],
   "source": [
    "sample1.mean()"
   ]
  },
  {
   "cell_type": "code",
   "execution_count": null,
   "metadata": {},
   "outputs": [],
   "source": [
    "## what is the median of sample1?"
   ]
  },
  {
   "cell_type": "code",
   "execution_count": 79,
   "metadata": {},
   "outputs": [
    {
     "data": {
      "text/plain": [
       "9.793823288130408"
      ]
     },
     "execution_count": 79,
     "metadata": {},
     "output_type": "execute_result"
    }
   ],
   "source": [
    "np.median(sample1)"
   ]
  },
  {
   "cell_type": "code",
   "execution_count": 85,
   "metadata": {},
   "outputs": [
    {
     "data": {
      "text/plain": [
       "array([ 7.1487867 ,  9.23830071,  9.4193642 ,  9.42162959,  9.65865098,\n",
       "        9.92899559, 10.2893768 , 10.57174231, 10.70056625, 10.81713116])"
      ]
     },
     "execution_count": 85,
     "metadata": {},
     "output_type": "execute_result"
    }
   ],
   "source": [
    "## sorting sample1\n",
    "\n",
    "np.sort(sample1)"
   ]
  },
  {
   "cell_type": "code",
   "execution_count": null,
   "metadata": {},
   "outputs": [],
   "source": []
  },
  {
   "cell_type": "code",
   "execution_count": null,
   "metadata": {},
   "outputs": [],
   "source": [
    "## what is the 0.1 percentile of sample1?"
   ]
  },
  {
   "cell_type": "code",
   "execution_count": 87,
   "metadata": {},
   "outputs": [
    {
     "data": {
      "text/plain": [
       "7.148786695487686"
      ]
     },
     "execution_count": 87,
     "metadata": {},
     "output_type": "execute_result"
    }
   ],
   "source": [
    "np.percentile(sample1,q=.1,interpolation='lower')  #Interpolation returns an actual level of the list.  "
   ]
  },
  {
   "cell_type": "code",
   "execution_count": null,
   "metadata": {},
   "outputs": [],
   "source": [
    "## Where is the max/min in sample1"
   ]
  },
  {
   "cell_type": "code",
   "execution_count": null,
   "metadata": {},
   "outputs": [],
   "source": [
    "## We can use different formattings as we print values\n",
    "print('Maximum of sample1 is %.2f'%sample1.max())\n",
    "print('The index of the max in sample1 is {}'.format(sample1.argmax()))"
   ]
  },
  {
   "cell_type": "markdown",
   "metadata": {},
   "source": [
    "[Comparison between % and format](https://stackoverflow.com/questions/5082452/string-formatting-vs-format)\n",
    "\n",
    "[Descriptive Statistics](https://www.hackerearth.com/blog/developers/descriptive-statistics-python-numpy/)"
   ]
  },
  {
   "cell_type": "code",
   "execution_count": 94,
   "metadata": {},
   "outputs": [
    {
     "data": {
      "text/plain": [
       "9"
      ]
     },
     "execution_count": 94,
     "metadata": {},
     "output_type": "execute_result"
    }
   ],
   "source": [
    "sample1.argmax()"
   ]
  },
  {
   "cell_type": "code",
   "execution_count": null,
   "metadata": {},
   "outputs": [],
   "source": []
  }
 ],
 "metadata": {
  "kernelspec": {
   "display_name": "Python 3",
   "language": "python",
   "name": "python3"
  },
  "language_info": {
   "codemirror_mode": {
    "name": "ipython",
    "version": 3
   },
   "file_extension": ".py",
   "mimetype": "text/x-python",
   "name": "python",
   "nbconvert_exporter": "python",
   "pygments_lexer": "ipython3",
   "version": "3.6.9"
  },
  "toc": {
   "base_numbering": 1,
   "nav_menu": {},
   "number_sections": true,
   "sideBar": true,
   "skip_h1_title": false,
   "title_cell": "Table of Contents",
   "title_sidebar": "Contents",
   "toc_cell": false,
   "toc_position": {},
   "toc_section_display": true,
   "toc_window_display": false
  }
 },
 "nbformat": 4,
 "nbformat_minor": 4
}
