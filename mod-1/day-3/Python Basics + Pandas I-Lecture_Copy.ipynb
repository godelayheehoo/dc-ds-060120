{
 "cells": [
  {
   "cell_type": "markdown",
   "metadata": {},
   "source": [
    "This noteboook is inspired from:\n",
    "\n",
    "[Jake Vanderplas - A Whirlwind Tour of Python](https://github.com/jakevdp/WhirlwindTourOfPython/blob/master/08-Defining-Functions.ipynb)"
   ]
  },
  {
   "cell_type": "markdown",
   "metadata": {},
   "source": [
    "# Python Basics and Pandas I"
   ]
  },
  {
   "cell_type": "markdown",
   "metadata": {},
   "source": [
    "## Functions"
   ]
  },
  {
   "cell_type": "markdown",
   "metadata": {},
   "source": [
    "We already know how to write basic script:"
   ]
  },
  {
   "cell_type": "code",
   "execution_count": 1,
   "metadata": {},
   "outputs": [
    {
     "data": {
      "text/plain": [
       "11"
      ]
     },
     "execution_count": 1,
     "metadata": {},
     "output_type": "execute_result"
    }
   ],
   "source": [
    "x = 3\n",
    "\n",
    "y = 2*x + 5\n",
    "\n",
    "y"
   ]
  },
  {
   "cell_type": "markdown",
   "metadata": {},
   "source": [
    "Then why do we need functions?"
   ]
  },
  {
   "cell_type": "markdown",
   "metadata": {},
   "source": [
    "* More readable code\n",
    "* reusable (think about it as recycle)"
   ]
  },
  {
   "cell_type": "markdown",
   "metadata": {},
   "source": [
    "There are two ways of creating functions:\n",
    "\n",
    "- def statement\n",
    "\n",
    "- lambda statement"
   ]
  },
  {
   "cell_type": "markdown",
   "metadata": {},
   "source": [
    "There are also built-in functions that Python gives us for free: \n",
    "\n",
    "[List of Built-in Functions in Python](https://docs.python.org/3/library/functions.html)"
   ]
  },
  {
   "cell_type": "code",
   "execution_count": 2,
   "metadata": {},
   "outputs": [],
   "source": [
    "## Can you think of a function that we have been using for a while?"
   ]
  },
  {
   "cell_type": "markdown",
   "metadata": {},
   "source": [
    "Let's write our first function:"
   ]
  },
  {
   "cell_type": "markdown",
   "metadata": {},
   "source": [
    "[ProjectEuler - Problem - I](https://projecteuler.net/problem=1)"
   ]
  },
  {
   "cell_type": "markdown",
   "metadata": {},
   "source": [
    "__Your Turn__\n",
    "\n",
    "- Write a function that solves the above problem"
   ]
  },
  {
   "cell_type": "code",
   "execution_count": 44,
   "metadata": {},
   "outputs": [
    {
     "data": {
      "text/plain": [
       "233168"
      ]
     },
     "execution_count": 44,
     "metadata": {},
     "output_type": "execute_result"
    }
   ],
   "source": [
    "def mult_sum(max,lower=0):\n",
    "    \"\"\"sums numbers from 3 to 5\n",
    "    ----\n",
    "    Parameters: max: any natural\n",
    "    ----\n",
    "    \n",
    "    returns:\n",
    "    ----------\n",
    "    tot: sum of numbers divisible by 3 or 5\n",
    "    \"\"\"\n",
    "    tot=0\n",
    "    for n in range(0,max):\n",
    "        if n%3==0:\n",
    "            tot+=n\n",
    "        if n%5==0 and n%3!=0:\n",
    "            tot+=n\n",
    "    return(tot)\n",
    "\n",
    "mult_sum(1000)\n",
    "\n",
    "\n",
    "\n"
   ]
  },
  {
   "cell_type": "code",
   "execution_count": 53,
   "metadata": {},
   "outputs": [
    {
     "data": {
      "text/plain": [
       "124500"
      ]
     },
     "execution_count": 53,
     "metadata": {},
     "output_type": "execute_result"
    }
   ],
   "source": [
    "def mult_sum2(max,lower=0):\n",
    "    \"\"\"sums numbers from 3 to 5\n",
    "    ----\n",
    "    Parameters: max: any natural\n",
    "    ----\n",
    "    \n",
    "    returns:\n",
    "    ----------\n",
    "    tot: sum of numbers divisible by 3 or 5\n",
    "    \"\"\"\n",
    "    tot=0\n",
    "    for n in range(0,max):\n",
    "        if n%4==0:\n",
    "            tot+=n\n",
    "        if n%7==0 and n%7!=0:\n",
    "            tot+=n\n",
    "    return(tot)\n",
    "\n",
    "mult_sum2(1000)"
   ]
  },
  {
   "cell_type": "code",
   "execution_count": 54,
   "metadata": {},
   "outputs": [
    {
     "data": {
      "text/plain": [
       "124500"
      ]
     },
     "execution_count": 54,
     "metadata": {},
     "output_type": "execute_result"
    }
   ],
   "source": [
    "def mult_sum_gen(max,*args,lower=0):\n",
    "    \"\"\"sums numbers from 3 to 5\n",
    "    ----\n",
    "    Parameters: fix\n",
    "    ----\n",
    "    \n",
    "    returns:\n",
    "    ----------\n",
    "    tot: fix\n",
    "    \"\"\"\n",
    "    tot=0\n",
    "    for n in range(0,max):\n",
    "        if n%4==0:\n",
    "            tot+=n\n",
    "        if n%7==0 and n%7!=0:\n",
    "            tot+=n\n",
    "    return(tot)\n",
    "\n",
    "mult_sum2(1000)"
   ]
  },
  {
   "cell_type": "code",
   "execution_count": 68,
   "metadata": {},
   "outputs": [
    {
     "name": "stdout",
     "output_type": "stream",
     "text": [
      "(5, 4)\n",
      "(5, 4)\n"
     ]
    }
   ],
   "source": [
    "def test_f(i=2,*args):\n",
    "    print(args)\n",
    "    print(args[0:])\n",
    "test_f(3,5,4)\n"
   ]
  },
  {
   "cell_type": "markdown",
   "metadata": {},
   "source": [
    "## *args and **kwargs: Flexible Arguments"
   ]
  },
  {
   "cell_type": "markdown",
   "metadata": {},
   "source": [
    "Sometimes, especially when we ask some other person to give the inputs we don't now how many arguments we should take. `*args` and `**kwargs` are solutions for this kind of problems."
   ]
  },
  {
   "cell_type": "code",
   "execution_count": 106,
   "metadata": {},
   "outputs": [],
   "source": [
    "def catch_all(*args, **kwargs):\n",
    "    v=list(args)\n",
    "    \n",
    "    try:\n",
    "        print(kwargs['c'])\n",
    "        \n",
    "    except KeyError:\n",
    "        print('C not defined')\n",
    "    #print('kwargs = ', kwargs)"
   ]
  },
  {
   "cell_type": "code",
   "execution_count": 107,
   "metadata": {},
   "outputs": [
    {
     "name": "stdout",
     "output_type": "stream",
     "text": [
      "C not defined\n",
      "2\n"
     ]
    }
   ],
   "source": [
    "catch_all(1,2,3,4,5, a = 3, b= 5)\n",
    "catch_all(c=2)"
   ]
  },
  {
   "cell_type": "markdown",
   "metadata": {},
   "source": [
    "For example we might want to write a function that takes some integers and returns their sum."
   ]
  },
  {
   "cell_type": "code",
   "execution_count": 40,
   "metadata": {},
   "outputs": [
    {
     "name": "stdout",
     "output_type": "stream",
     "text": [
      "3\n",
      "7\n"
     ]
    }
   ],
   "source": [
    "print(3 or 5)\n",
    "\n",
    "print(3|5)"
   ]
  },
  {
   "cell_type": "markdown",
   "metadata": {},
   "source": [
    "## Anonymus(Lambda) Functions"
   ]
  },
  {
   "cell_type": "markdown",
   "metadata": {},
   "source": [
    "Earlier we quickly covered the most common way of defining functions, the def statement. You'll likely come across another way of defining short, one-off functions with the lambda statement. It looks something like this:"
   ]
  },
  {
   "cell_type": "code",
   "execution_count": 7,
   "metadata": {},
   "outputs": [
    {
     "data": {
      "text/plain": [
       "3"
      ]
     },
     "execution_count": 7,
     "metadata": {},
     "output_type": "execute_result"
    }
   ],
   "source": [
    "add = lambda x,y,z: x+y-z\n",
    "\n",
    "add(1,3, 1)"
   ]
  },
  {
   "cell_type": "markdown",
   "metadata": {},
   "source": [
    "How could you write the same function with def statement?"
   ]
  },
  {
   "cell_type": "code",
   "execution_count": 110,
   "metadata": {},
   "outputs": [
    {
     "data": {
      "text/plain": [
       "3"
      ]
     },
     "execution_count": 110,
     "metadata": {},
     "output_type": "execute_result"
    }
   ],
   "source": [
    "y=lambda *x: len(x)\n",
    "\n",
    "y(4,3,6)"
   ]
  },
  {
   "cell_type": "markdown",
   "metadata": {},
   "source": [
    "Below you will see a little bit more complicated example with lambda function please make sure that you took a look at it."
   ]
  },
  {
   "cell_type": "code",
   "execution_count": 9,
   "metadata": {},
   "outputs": [],
   "source": [
    "data = [{'first':'Guido', 'last':'Van Rossum', 'YOB':1956},\n",
    "        {'first':'Grace', 'last':'Hopper',     'YOB':1906},\n",
    "        {'first':'Alan',  'last':'Turing',     'YOB':1912}]"
   ]
  },
  {
   "cell_type": "code",
   "execution_count": 10,
   "metadata": {},
   "outputs": [
    {
     "data": {
      "text/plain": [
       "[{'first': 'Grace', 'last': 'Hopper', 'YOB': 1906},\n",
       " {'first': 'Alan', 'last': 'Turing', 'YOB': 1912},\n",
       " {'first': 'Guido', 'last': 'Van Rossum', 'YOB': 1956}]"
      ]
     },
     "execution_count": 10,
     "metadata": {},
     "output_type": "execute_result"
    }
   ],
   "source": [
    "sorted(data, key= lambda item: item['YOB'])"
   ]
  }
 ],
 "metadata": {
  "kernelspec": {
   "display_name": "Python 3",
   "language": "python",
   "name": "python3"
  },
  "language_info": {
   "codemirror_mode": {
    "name": "ipython",
    "version": 3
   },
   "file_extension": ".py",
   "mimetype": "text/x-python",
   "name": "python",
   "nbconvert_exporter": "python",
   "pygments_lexer": "ipython3",
   "version": "3.6.9"
  },
  "toc": {
   "base_numbering": 1,
   "nav_menu": {},
   "number_sections": true,
   "sideBar": true,
   "skip_h1_title": false,
   "title_cell": "Table of Contents",
   "title_sidebar": "Contents",
   "toc_cell": false,
   "toc_position": {},
   "toc_section_display": true,
   "toc_window_display": false
  }
 },
 "nbformat": 4,
 "nbformat_minor": 4
}
