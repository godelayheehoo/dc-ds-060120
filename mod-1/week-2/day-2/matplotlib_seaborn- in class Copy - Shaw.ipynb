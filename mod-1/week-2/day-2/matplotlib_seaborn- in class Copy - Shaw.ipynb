{
 "cells": [
  {
   "cell_type": "markdown",
   "metadata": {},
   "source": [
    "![matplotlib](https://matplotlib.org/_static/logo2.png)\n",
    "\n",
    "# Data Visualization with Matplotlib\n",
    "\n",
    "\n",
    "## Why is visualization important?\n",
    "\n",
    "\n",
    "There are a lot of visualizations out there these days.\n",
    "\n",
    "Ultimately they are about quickly revealing relationships and anomolies.\n",
    "\n",
    "While we will review what makes a **GOOD** visualization later, we will cover a few basic types today.\n",
    "\n",
    "Let's look at some [examples from python graphs](https://python-graph-gallery.com/)\n"
   ]
  },
  {
   "cell_type": "code",
   "execution_count": 2,
   "metadata": {},
   "outputs": [],
   "source": [
    "import matplotlib.pyplot as plt\n",
    "import numpy as np"
   ]
  },
  {
   "cell_type": "markdown",
   "metadata": {},
   "source": [
    "### Matplotlib - 101\n",
    "\n",
    "- First release is in 2003\n",
    "\n",
    "- Compatible with different operating systems and graphic backends: [Backends?](https://askubuntu.com/questions/417160/what-is-a-backend-in-computer-graphics)\n",
    "\n",
    "- Everything to everyone approach\n",
    "\n",
    "- Didn't age well :)"
   ]
  },
  {
   "cell_type": "code",
   "execution_count": 4,
   "metadata": {},
   "outputs": [
    {
     "name": "stdout",
     "output_type": "stream",
     "text": [
      "Using matplotlib backend: Qt5Agg\n"
     ]
    }
   ],
   "source": [
    "%matplotlib\n",
    "\n",
    "## you might see TkAgg, nbAgg for example"
   ]
  },
  {
   "cell_type": "code",
   "execution_count": 118,
   "metadata": {},
   "outputs": [],
   "source": [
    "import matplotlib"
   ]
  },
  {
   "cell_type": "markdown",
   "metadata": {},
   "source": [
    "### Setting Styles"
   ]
  },
  {
   "cell_type": "code",
   "execution_count": 123,
   "metadata": {},
   "outputs": [
    {
     "data": {
      "text/plain": [
       "{'xkcd:cloudy blue': '#acc2d9',\n",
       " 'xkcd:dark pastel green': '#56ae57',\n",
       " 'xkcd:dust': '#b2996e',\n",
       " 'xkcd:electric lime': '#a8ff04',\n",
       " 'xkcd:fresh green': '#69d84f',\n",
       " 'xkcd:light eggplant': '#894585',\n",
       " 'xkcd:nasty green': '#70b23f',\n",
       " 'xkcd:really light blue': '#d4ffff',\n",
       " 'xkcd:tea': '#65ab7c',\n",
       " 'xkcd:warm purple': '#952e8f',\n",
       " 'xkcd:yellowish tan': '#fcfc81',\n",
       " 'xkcd:cement': '#a5a391',\n",
       " 'xkcd:dark grass green': '#388004',\n",
       " 'xkcd:dusty teal': '#4c9085',\n",
       " 'xkcd:grey teal': '#5e9b8a',\n",
       " 'xkcd:macaroni and cheese': '#efb435',\n",
       " 'xkcd:pinkish tan': '#d99b82',\n",
       " 'xkcd:spruce': '#0a5f38',\n",
       " 'xkcd:strong blue': '#0c06f7',\n",
       " 'xkcd:toxic green': '#61de2a',\n",
       " 'xkcd:windows blue': '#3778bf',\n",
       " 'xkcd:blue blue': '#2242c7',\n",
       " 'xkcd:blue with a hint of purple': '#533cc6',\n",
       " 'xkcd:booger': '#9bb53c',\n",
       " 'xkcd:bright sea green': '#05ffa6',\n",
       " 'xkcd:dark green blue': '#1f6357',\n",
       " 'xkcd:deep turquoise': '#017374',\n",
       " 'xkcd:green teal': '#0cb577',\n",
       " 'xkcd:strong pink': '#ff0789',\n",
       " 'xkcd:bland': '#afa88b',\n",
       " 'xkcd:deep aqua': '#08787f',\n",
       " 'xkcd:lavender pink': '#dd85d7',\n",
       " 'xkcd:light moss green': '#a6c875',\n",
       " 'xkcd:light seafoam green': '#a7ffb5',\n",
       " 'xkcd:olive yellow': '#c2b709',\n",
       " 'xkcd:pig pink': '#e78ea5',\n",
       " 'xkcd:deep lilac': '#966ebd',\n",
       " 'xkcd:desert': '#ccad60',\n",
       " 'xkcd:dusty lavender': '#ac86a8',\n",
       " 'xkcd:purpley grey': '#947e94',\n",
       " 'xkcd:purply': '#983fb2',\n",
       " 'xkcd:candy pink': '#ff63e9',\n",
       " 'xkcd:light pastel green': '#b2fba5',\n",
       " 'xkcd:boring green': '#63b365',\n",
       " 'xkcd:kiwi green': '#8ee53f',\n",
       " 'xkcd:light grey green': '#b7e1a1',\n",
       " 'xkcd:orange pink': '#ff6f52',\n",
       " 'xkcd:tea green': '#bdf8a3',\n",
       " 'xkcd:very light brown': '#d3b683',\n",
       " 'xkcd:egg shell': '#fffcc4',\n",
       " 'xkcd:eggplant purple': '#430541',\n",
       " 'xkcd:powder pink': '#ffb2d0',\n",
       " 'xkcd:reddish grey': '#997570',\n",
       " 'xkcd:baby shit brown': '#ad900d',\n",
       " 'xkcd:liliac': '#c48efd',\n",
       " 'xkcd:stormy blue': '#507b9c',\n",
       " 'xkcd:ugly brown': '#7d7103',\n",
       " 'xkcd:custard': '#fffd78',\n",
       " 'xkcd:darkish pink': '#da467d',\n",
       " 'xkcd:deep brown': '#410200',\n",
       " 'xkcd:greenish beige': '#c9d179',\n",
       " 'xkcd:manilla': '#fffa86',\n",
       " 'xkcd:off blue': '#5684ae',\n",
       " 'xkcd:battleship grey': '#6b7c85',\n",
       " 'xkcd:browny green': '#6f6c0a',\n",
       " 'xkcd:bruise': '#7e4071',\n",
       " 'xkcd:kelley green': '#009337',\n",
       " 'xkcd:sickly yellow': '#d0e429',\n",
       " 'xkcd:sunny yellow': '#fff917',\n",
       " 'xkcd:azul': '#1d5dec',\n",
       " 'xkcd:darkgreen': '#054907',\n",
       " 'xkcd:green/yellow': '#b5ce08',\n",
       " 'xkcd:lichen': '#8fb67b',\n",
       " 'xkcd:light light green': '#c8ffb0',\n",
       " 'xkcd:pale gold': '#fdde6c',\n",
       " 'xkcd:sun yellow': '#ffdf22',\n",
       " 'xkcd:tan green': '#a9be70',\n",
       " 'xkcd:burple': '#6832e3',\n",
       " 'xkcd:butterscotch': '#fdb147',\n",
       " 'xkcd:toupe': '#c7ac7d',\n",
       " 'xkcd:dark cream': '#fff39a',\n",
       " 'xkcd:indian red': '#850e04',\n",
       " 'xkcd:light lavendar': '#efc0fe',\n",
       " 'xkcd:poison green': '#40fd14',\n",
       " 'xkcd:baby puke green': '#b6c406',\n",
       " 'xkcd:bright yellow green': '#9dff00',\n",
       " 'xkcd:charcoal grey': '#3c4142',\n",
       " 'xkcd:squash': '#f2ab15',\n",
       " 'xkcd:cinnamon': '#ac4f06',\n",
       " 'xkcd:light pea green': '#c4fe82',\n",
       " 'xkcd:radioactive green': '#2cfa1f',\n",
       " 'xkcd:raw sienna': '#9a6200',\n",
       " 'xkcd:baby purple': '#ca9bf7',\n",
       " 'xkcd:cocoa': '#875f42',\n",
       " 'xkcd:light royal blue': '#3a2efe',\n",
       " 'xkcd:orangeish': '#fd8d49',\n",
       " 'xkcd:rust brown': '#8b3103',\n",
       " 'xkcd:sand brown': '#cba560',\n",
       " 'xkcd:swamp': '#698339',\n",
       " 'xkcd:tealish green': '#0cdc73',\n",
       " 'xkcd:burnt siena': '#b75203',\n",
       " 'xkcd:camo': '#7f8f4e',\n",
       " 'xkcd:dusk blue': '#26538d',\n",
       " 'xkcd:fern': '#63a950',\n",
       " 'xkcd:old rose': '#c87f89',\n",
       " 'xkcd:pale light green': '#b1fc99',\n",
       " 'xkcd:peachy pink': '#ff9a8a',\n",
       " 'xkcd:rosy pink': '#f6688e',\n",
       " 'xkcd:light bluish green': '#76fda8',\n",
       " 'xkcd:light bright green': '#53fe5c',\n",
       " 'xkcd:light neon green': '#4efd54',\n",
       " 'xkcd:light seafoam': '#a0febf',\n",
       " 'xkcd:tiffany blue': '#7bf2da',\n",
       " 'xkcd:washed out green': '#bcf5a6',\n",
       " 'xkcd:browny orange': '#ca6b02',\n",
       " 'xkcd:nice blue': '#107ab0',\n",
       " 'xkcd:sapphire': '#2138ab',\n",
       " 'xkcd:greyish teal': '#719f91',\n",
       " 'xkcd:orangey yellow': '#fdb915',\n",
       " 'xkcd:parchment': '#fefcaf',\n",
       " 'xkcd:straw': '#fcf679',\n",
       " 'xkcd:very dark brown': '#1d0200',\n",
       " 'xkcd:terracota': '#cb6843',\n",
       " 'xkcd:ugly blue': '#31668a',\n",
       " 'xkcd:clear blue': '#247afd',\n",
       " 'xkcd:creme': '#ffffb6',\n",
       " 'xkcd:foam green': '#90fda9',\n",
       " 'xkcd:grey/green': '#86a17d',\n",
       " 'xkcd:light gold': '#fddc5c',\n",
       " 'xkcd:seafoam blue': '#78d1b6',\n",
       " 'xkcd:topaz': '#13bbaf',\n",
       " 'xkcd:violet pink': '#fb5ffc',\n",
       " 'xkcd:wintergreen': '#20f986',\n",
       " 'xkcd:yellow tan': '#ffe36e',\n",
       " 'xkcd:dark fuchsia': '#9d0759',\n",
       " 'xkcd:indigo blue': '#3a18b1',\n",
       " 'xkcd:light yellowish green': '#c2ff89',\n",
       " 'xkcd:pale magenta': '#d767ad',\n",
       " 'xkcd:rich purple': '#720058',\n",
       " 'xkcd:sunflower yellow': '#ffda03',\n",
       " 'xkcd:green/blue': '#01c08d',\n",
       " 'xkcd:leather': '#ac7434',\n",
       " 'xkcd:racing green': '#014600',\n",
       " 'xkcd:vivid purple': '#9900fa',\n",
       " 'xkcd:dark royal blue': '#02066f',\n",
       " 'xkcd:hazel': '#8e7618',\n",
       " 'xkcd:muted pink': '#d1768f',\n",
       " 'xkcd:booger green': '#96b403',\n",
       " 'xkcd:canary': '#fdff63',\n",
       " 'xkcd:cool grey': '#95a3a6',\n",
       " 'xkcd:dark taupe': '#7f684e',\n",
       " 'xkcd:darkish purple': '#751973',\n",
       " 'xkcd:true green': '#089404',\n",
       " 'xkcd:coral pink': '#ff6163',\n",
       " 'xkcd:dark sage': '#598556',\n",
       " 'xkcd:dark slate blue': '#214761',\n",
       " 'xkcd:flat blue': '#3c73a8',\n",
       " 'xkcd:mushroom': '#ba9e88',\n",
       " 'xkcd:rich blue': '#021bf9',\n",
       " 'xkcd:dirty purple': '#734a65',\n",
       " 'xkcd:greenblue': '#23c48b',\n",
       " 'xkcd:icky green': '#8fae22',\n",
       " 'xkcd:light khaki': '#e6f2a2',\n",
       " 'xkcd:warm blue': '#4b57db',\n",
       " 'xkcd:dark hot pink': '#d90166',\n",
       " 'xkcd:deep sea blue': '#015482',\n",
       " 'xkcd:carmine': '#9d0216',\n",
       " 'xkcd:dark yellow green': '#728f02',\n",
       " 'xkcd:pale peach': '#ffe5ad',\n",
       " 'xkcd:plum purple': '#4e0550',\n",
       " 'xkcd:golden rod': '#f9bc08',\n",
       " 'xkcd:neon red': '#ff073a',\n",
       " 'xkcd:old pink': '#c77986',\n",
       " 'xkcd:very pale blue': '#d6fffe',\n",
       " 'xkcd:blood orange': '#fe4b03',\n",
       " 'xkcd:grapefruit': '#fd5956',\n",
       " 'xkcd:sand yellow': '#fce166',\n",
       " 'xkcd:clay brown': '#b2713d',\n",
       " 'xkcd:dark blue grey': '#1f3b4d',\n",
       " 'xkcd:flat green': '#699d4c',\n",
       " 'xkcd:light green blue': '#56fca2',\n",
       " 'xkcd:warm pink': '#fb5581',\n",
       " 'xkcd:dodger blue': '#3e82fc',\n",
       " 'xkcd:gross green': '#a0bf16',\n",
       " 'xkcd:ice': '#d6fffa',\n",
       " 'xkcd:metallic blue': '#4f738e',\n",
       " 'xkcd:pale salmon': '#ffb19a',\n",
       " 'xkcd:sap green': '#5c8b15',\n",
       " 'xkcd:algae': '#54ac68',\n",
       " 'xkcd:bluey grey': '#89a0b0',\n",
       " 'xkcd:greeny grey': '#7ea07a',\n",
       " 'xkcd:highlighter green': '#1bfc06',\n",
       " 'xkcd:light light blue': '#cafffb',\n",
       " 'xkcd:light mint': '#b6ffbb',\n",
       " 'xkcd:raw umber': '#a75e09',\n",
       " 'xkcd:vivid blue': '#152eff',\n",
       " 'xkcd:deep lavender': '#8d5eb7',\n",
       " 'xkcd:dull teal': '#5f9e8f',\n",
       " 'xkcd:light greenish blue': '#63f7b4',\n",
       " 'xkcd:mud green': '#606602',\n",
       " 'xkcd:pinky': '#fc86aa',\n",
       " 'xkcd:red wine': '#8c0034',\n",
       " 'xkcd:shit green': '#758000',\n",
       " 'xkcd:tan brown': '#ab7e4c',\n",
       " 'xkcd:darkblue': '#030764',\n",
       " 'xkcd:rosa': '#fe86a4',\n",
       " 'xkcd:lipstick': '#d5174e',\n",
       " 'xkcd:pale mauve': '#fed0fc',\n",
       " 'xkcd:claret': '#680018',\n",
       " 'xkcd:dandelion': '#fedf08',\n",
       " 'xkcd:orangered': '#fe420f',\n",
       " 'xkcd:poop green': '#6f7c00',\n",
       " 'xkcd:ruby': '#ca0147',\n",
       " 'xkcd:dark': '#1b2431',\n",
       " 'xkcd:greenish turquoise': '#00fbb0',\n",
       " 'xkcd:pastel red': '#db5856',\n",
       " 'xkcd:piss yellow': '#ddd618',\n",
       " 'xkcd:bright cyan': '#41fdfe',\n",
       " 'xkcd:dark coral': '#cf524e',\n",
       " 'xkcd:algae green': '#21c36f',\n",
       " 'xkcd:darkish red': '#a90308',\n",
       " 'xkcd:reddy brown': '#6e1005',\n",
       " 'xkcd:blush pink': '#fe828c',\n",
       " 'xkcd:camouflage green': '#4b6113',\n",
       " 'xkcd:lawn green': '#4da409',\n",
       " 'xkcd:putty': '#beae8a',\n",
       " 'xkcd:vibrant blue': '#0339f8',\n",
       " 'xkcd:dark sand': '#a88f59',\n",
       " 'xkcd:purple/blue': '#5d21d0',\n",
       " 'xkcd:saffron': '#feb209',\n",
       " 'xkcd:twilight': '#4e518b',\n",
       " 'xkcd:warm brown': '#964e02',\n",
       " 'xkcd:bluegrey': '#85a3b2',\n",
       " 'xkcd:bubble gum pink': '#ff69af',\n",
       " 'xkcd:duck egg blue': '#c3fbf4',\n",
       " 'xkcd:greenish cyan': '#2afeb7',\n",
       " 'xkcd:petrol': '#005f6a',\n",
       " 'xkcd:royal': '#0c1793',\n",
       " 'xkcd:butter': '#ffff81',\n",
       " 'xkcd:dusty orange': '#f0833a',\n",
       " 'xkcd:off yellow': '#f1f33f',\n",
       " 'xkcd:pale olive green': '#b1d27b',\n",
       " 'xkcd:orangish': '#fc824a',\n",
       " 'xkcd:leaf': '#71aa34',\n",
       " 'xkcd:light blue grey': '#b7c9e2',\n",
       " 'xkcd:dried blood': '#4b0101',\n",
       " 'xkcd:lightish purple': '#a552e6',\n",
       " 'xkcd:rusty red': '#af2f0d',\n",
       " 'xkcd:lavender blue': '#8b88f8',\n",
       " 'xkcd:light grass green': '#9af764',\n",
       " 'xkcd:light mint green': '#a6fbb2',\n",
       " 'xkcd:sunflower': '#ffc512',\n",
       " 'xkcd:velvet': '#750851',\n",
       " 'xkcd:brick orange': '#c14a09',\n",
       " 'xkcd:lightish red': '#fe2f4a',\n",
       " 'xkcd:pure blue': '#0203e2',\n",
       " 'xkcd:twilight blue': '#0a437a',\n",
       " 'xkcd:violet red': '#a50055',\n",
       " 'xkcd:yellowy brown': '#ae8b0c',\n",
       " 'xkcd:carnation': '#fd798f',\n",
       " 'xkcd:muddy yellow': '#bfac05',\n",
       " 'xkcd:dark seafoam green': '#3eaf76',\n",
       " 'xkcd:deep rose': '#c74767',\n",
       " 'xkcd:dusty red': '#b9484e',\n",
       " 'xkcd:grey/blue': '#647d8e',\n",
       " 'xkcd:lemon lime': '#bffe28',\n",
       " 'xkcd:purple/pink': '#d725de',\n",
       " 'xkcd:brown yellow': '#b29705',\n",
       " 'xkcd:purple brown': '#673a3f',\n",
       " 'xkcd:wisteria': '#a87dc2',\n",
       " 'xkcd:banana yellow': '#fafe4b',\n",
       " 'xkcd:lipstick red': '#c0022f',\n",
       " 'xkcd:water blue': '#0e87cc',\n",
       " 'xkcd:brown grey': '#8d8468',\n",
       " 'xkcd:vibrant purple': '#ad03de',\n",
       " 'xkcd:baby green': '#8cff9e',\n",
       " 'xkcd:barf green': '#94ac02',\n",
       " 'xkcd:eggshell blue': '#c4fff7',\n",
       " 'xkcd:sandy yellow': '#fdee73',\n",
       " 'xkcd:cool green': '#33b864',\n",
       " 'xkcd:pale': '#fff9d0',\n",
       " 'xkcd:blue/grey': '#758da3',\n",
       " 'xkcd:hot magenta': '#f504c9',\n",
       " 'xkcd:greyblue': '#77a1b5',\n",
       " 'xkcd:purpley': '#8756e4',\n",
       " 'xkcd:baby shit green': '#889717',\n",
       " 'xkcd:brownish pink': '#c27e79',\n",
       " 'xkcd:dark aquamarine': '#017371',\n",
       " 'xkcd:diarrhea': '#9f8303',\n",
       " 'xkcd:light mustard': '#f7d560',\n",
       " 'xkcd:pale sky blue': '#bdf6fe',\n",
       " 'xkcd:turtle green': '#75b84f',\n",
       " 'xkcd:bright olive': '#9cbb04',\n",
       " 'xkcd:dark grey blue': '#29465b',\n",
       " 'xkcd:greeny brown': '#696006',\n",
       " 'xkcd:lemon green': '#adf802',\n",
       " 'xkcd:light periwinkle': '#c1c6fc',\n",
       " 'xkcd:seaweed green': '#35ad6b',\n",
       " 'xkcd:sunshine yellow': '#fffd37',\n",
       " 'xkcd:ugly purple': '#a442a0',\n",
       " 'xkcd:medium pink': '#f36196',\n",
       " 'xkcd:puke brown': '#947706',\n",
       " 'xkcd:very light pink': '#fff4f2',\n",
       " 'xkcd:viridian': '#1e9167',\n",
       " 'xkcd:bile': '#b5c306',\n",
       " 'xkcd:faded yellow': '#feff7f',\n",
       " 'xkcd:very pale green': '#cffdbc',\n",
       " 'xkcd:vibrant green': '#0add08',\n",
       " 'xkcd:bright lime': '#87fd05',\n",
       " 'xkcd:spearmint': '#1ef876',\n",
       " 'xkcd:light aquamarine': '#7bfdc7',\n",
       " 'xkcd:light sage': '#bcecac',\n",
       " 'xkcd:yellowgreen': '#bbf90f',\n",
       " 'xkcd:baby poo': '#ab9004',\n",
       " 'xkcd:dark seafoam': '#1fb57a',\n",
       " 'xkcd:deep teal': '#00555a',\n",
       " 'xkcd:heather': '#a484ac',\n",
       " 'xkcd:rust orange': '#c45508',\n",
       " 'xkcd:dirty blue': '#3f829d',\n",
       " 'xkcd:fern green': '#548d44',\n",
       " 'xkcd:bright lilac': '#c95efb',\n",
       " 'xkcd:weird green': '#3ae57f',\n",
       " 'xkcd:peacock blue': '#016795',\n",
       " 'xkcd:avocado green': '#87a922',\n",
       " 'xkcd:faded orange': '#f0944d',\n",
       " 'xkcd:grape purple': '#5d1451',\n",
       " 'xkcd:hot green': '#25ff29',\n",
       " 'xkcd:lime yellow': '#d0fe1d',\n",
       " 'xkcd:mango': '#ffa62b',\n",
       " 'xkcd:shamrock': '#01b44c',\n",
       " 'xkcd:bubblegum': '#ff6cb5',\n",
       " 'xkcd:purplish brown': '#6b4247',\n",
       " 'xkcd:vomit yellow': '#c7c10c',\n",
       " 'xkcd:pale cyan': '#b7fffa',\n",
       " 'xkcd:key lime': '#aeff6e',\n",
       " 'xkcd:tomato red': '#ec2d01',\n",
       " 'xkcd:lightgreen': '#76ff7b',\n",
       " 'xkcd:merlot': '#730039',\n",
       " 'xkcd:night blue': '#040348',\n",
       " 'xkcd:purpleish pink': '#df4ec8',\n",
       " 'xkcd:apple': '#6ecb3c',\n",
       " 'xkcd:baby poop green': '#8f9805',\n",
       " 'xkcd:green apple': '#5edc1f',\n",
       " 'xkcd:heliotrope': '#d94ff5',\n",
       " 'xkcd:yellow/green': '#c8fd3d',\n",
       " 'xkcd:almost black': '#070d0d',\n",
       " 'xkcd:cool blue': '#4984b8',\n",
       " 'xkcd:leafy green': '#51b73b',\n",
       " 'xkcd:mustard brown': '#ac7e04',\n",
       " 'xkcd:dusk': '#4e5481',\n",
       " 'xkcd:dull brown': '#876e4b',\n",
       " 'xkcd:frog green': '#58bc08',\n",
       " 'xkcd:vivid green': '#2fef10',\n",
       " 'xkcd:bright light green': '#2dfe54',\n",
       " 'xkcd:fluro green': '#0aff02',\n",
       " 'xkcd:kiwi': '#9cef43',\n",
       " 'xkcd:seaweed': '#18d17b',\n",
       " 'xkcd:navy green': '#35530a',\n",
       " 'xkcd:ultramarine blue': '#1805db',\n",
       " 'xkcd:iris': '#6258c4',\n",
       " 'xkcd:pastel orange': '#ff964f',\n",
       " 'xkcd:yellowish orange': '#ffab0f',\n",
       " 'xkcd:perrywinkle': '#8f8ce7',\n",
       " 'xkcd:tealish': '#24bca8',\n",
       " 'xkcd:dark plum': '#3f012c',\n",
       " 'xkcd:pear': '#cbf85f',\n",
       " 'xkcd:pinkish orange': '#ff724c',\n",
       " 'xkcd:midnight purple': '#280137',\n",
       " 'xkcd:light urple': '#b36ff6',\n",
       " 'xkcd:dark mint': '#48c072',\n",
       " 'xkcd:greenish tan': '#bccb7a',\n",
       " 'xkcd:light burgundy': '#a8415b',\n",
       " 'xkcd:turquoise blue': '#06b1c4',\n",
       " 'xkcd:ugly pink': '#cd7584',\n",
       " 'xkcd:sandy': '#f1da7a',\n",
       " 'xkcd:electric pink': '#ff0490',\n",
       " 'xkcd:muted purple': '#805b87',\n",
       " 'xkcd:mid green': '#50a747',\n",
       " 'xkcd:greyish': '#a8a495',\n",
       " 'xkcd:neon yellow': '#cfff04',\n",
       " 'xkcd:banana': '#ffff7e',\n",
       " 'xkcd:carnation pink': '#ff7fa7',\n",
       " 'xkcd:tomato': '#ef4026',\n",
       " 'xkcd:sea': '#3c9992',\n",
       " 'xkcd:muddy brown': '#886806',\n",
       " 'xkcd:turquoise green': '#04f489',\n",
       " 'xkcd:buff': '#fef69e',\n",
       " 'xkcd:fawn': '#cfaf7b',\n",
       " 'xkcd:muted blue': '#3b719f',\n",
       " 'xkcd:pale rose': '#fdc1c5',\n",
       " 'xkcd:dark mint green': '#20c073',\n",
       " 'xkcd:amethyst': '#9b5fc0',\n",
       " 'xkcd:blue/green': '#0f9b8e',\n",
       " 'xkcd:chestnut': '#742802',\n",
       " 'xkcd:sick green': '#9db92c',\n",
       " 'xkcd:pea': '#a4bf20',\n",
       " 'xkcd:rusty orange': '#cd5909',\n",
       " 'xkcd:stone': '#ada587',\n",
       " 'xkcd:rose red': '#be013c',\n",
       " 'xkcd:pale aqua': '#b8ffeb',\n",
       " 'xkcd:deep orange': '#dc4d01',\n",
       " 'xkcd:earth': '#a2653e',\n",
       " 'xkcd:mossy green': '#638b27',\n",
       " 'xkcd:grassy green': '#419c03',\n",
       " 'xkcd:pale lime green': '#b1ff65',\n",
       " 'xkcd:light grey blue': '#9dbcd4',\n",
       " 'xkcd:pale grey': '#fdfdfe',\n",
       " 'xkcd:asparagus': '#77ab56',\n",
       " 'xkcd:blueberry': '#464196',\n",
       " 'xkcd:purple red': '#990147',\n",
       " 'xkcd:pale lime': '#befd73',\n",
       " 'xkcd:greenish teal': '#32bf84',\n",
       " 'xkcd:caramel': '#af6f09',\n",
       " 'xkcd:deep magenta': '#a0025c',\n",
       " 'xkcd:light peach': '#ffd8b1',\n",
       " 'xkcd:milk chocolate': '#7f4e1e',\n",
       " 'xkcd:ocher': '#bf9b0c',\n",
       " 'xkcd:off green': '#6ba353',\n",
       " 'xkcd:purply pink': '#f075e6',\n",
       " 'xkcd:lightblue': '#7bc8f6',\n",
       " 'xkcd:dusky blue': '#475f94',\n",
       " 'xkcd:golden': '#f5bf03',\n",
       " 'xkcd:light beige': '#fffeb6',\n",
       " 'xkcd:butter yellow': '#fffd74',\n",
       " 'xkcd:dusky purple': '#895b7b',\n",
       " 'xkcd:french blue': '#436bad',\n",
       " 'xkcd:ugly yellow': '#d0c101',\n",
       " 'xkcd:greeny yellow': '#c6f808',\n",
       " 'xkcd:orangish red': '#f43605',\n",
       " 'xkcd:shamrock green': '#02c14d',\n",
       " 'xkcd:orangish brown': '#b25f03',\n",
       " 'xkcd:tree green': '#2a7e19',\n",
       " 'xkcd:deep violet': '#490648',\n",
       " 'xkcd:gunmetal': '#536267',\n",
       " 'xkcd:blue/purple': '#5a06ef',\n",
       " 'xkcd:cherry': '#cf0234',\n",
       " 'xkcd:sandy brown': '#c4a661',\n",
       " 'xkcd:warm grey': '#978a84',\n",
       " 'xkcd:dark indigo': '#1f0954',\n",
       " 'xkcd:midnight': '#03012d',\n",
       " 'xkcd:bluey green': '#2bb179',\n",
       " 'xkcd:grey pink': '#c3909b',\n",
       " 'xkcd:soft purple': '#a66fb5',\n",
       " 'xkcd:blood': '#770001',\n",
       " 'xkcd:brown red': '#922b05',\n",
       " 'xkcd:medium grey': '#7d7f7c',\n",
       " 'xkcd:berry': '#990f4b',\n",
       " 'xkcd:poo': '#8f7303',\n",
       " 'xkcd:purpley pink': '#c83cb9',\n",
       " 'xkcd:light salmon': '#fea993',\n",
       " 'xkcd:snot': '#acbb0d',\n",
       " 'xkcd:easter purple': '#c071fe',\n",
       " 'xkcd:light yellow green': '#ccfd7f',\n",
       " 'xkcd:dark navy blue': '#00022e',\n",
       " 'xkcd:drab': '#828344',\n",
       " 'xkcd:light rose': '#ffc5cb',\n",
       " 'xkcd:rouge': '#ab1239',\n",
       " 'xkcd:purplish red': '#b0054b',\n",
       " 'xkcd:slime green': '#99cc04',\n",
       " 'xkcd:baby poop': '#937c00',\n",
       " 'xkcd:irish green': '#019529',\n",
       " 'xkcd:pink/purple': '#ef1de7',\n",
       " 'xkcd:dark navy': '#000435',\n",
       " 'xkcd:greeny blue': '#42b395',\n",
       " 'xkcd:light plum': '#9d5783',\n",
       " 'xkcd:pinkish grey': '#c8aca9',\n",
       " 'xkcd:dirty orange': '#c87606',\n",
       " 'xkcd:rust red': '#aa2704',\n",
       " 'xkcd:pale lilac': '#e4cbff',\n",
       " 'xkcd:orangey red': '#fa4224',\n",
       " 'xkcd:primary blue': '#0804f9',\n",
       " 'xkcd:kermit green': '#5cb200',\n",
       " 'xkcd:brownish purple': '#76424e',\n",
       " 'xkcd:murky green': '#6c7a0e',\n",
       " 'xkcd:wheat': '#fbdd7e',\n",
       " 'xkcd:very dark purple': '#2a0134',\n",
       " 'xkcd:bottle green': '#044a05',\n",
       " 'xkcd:watermelon': '#fd4659',\n",
       " 'xkcd:deep sky blue': '#0d75f8',\n",
       " 'xkcd:fire engine red': '#fe0002',\n",
       " 'xkcd:yellow ochre': '#cb9d06',\n",
       " 'xkcd:pumpkin orange': '#fb7d07',\n",
       " 'xkcd:pale olive': '#b9cc81',\n",
       " 'xkcd:light lilac': '#edc8ff',\n",
       " 'xkcd:lightish green': '#61e160',\n",
       " 'xkcd:carolina blue': '#8ab8fe',\n",
       " 'xkcd:mulberry': '#920a4e',\n",
       " 'xkcd:shocking pink': '#fe02a2',\n",
       " 'xkcd:auburn': '#9a3001',\n",
       " 'xkcd:bright lime green': '#65fe08',\n",
       " 'xkcd:celadon': '#befdb7',\n",
       " 'xkcd:pinkish brown': '#b17261',\n",
       " 'xkcd:poo brown': '#885f01',\n",
       " 'xkcd:bright sky blue': '#02ccfe',\n",
       " 'xkcd:celery': '#c1fd95',\n",
       " 'xkcd:dirt brown': '#836539',\n",
       " 'xkcd:strawberry': '#fb2943',\n",
       " 'xkcd:dark lime': '#84b701',\n",
       " 'xkcd:copper': '#b66325',\n",
       " 'xkcd:medium brown': '#7f5112',\n",
       " 'xkcd:muted green': '#5fa052',\n",
       " \"xkcd:robin's egg\": '#6dedfd',\n",
       " 'xkcd:bright aqua': '#0bf9ea',\n",
       " 'xkcd:bright lavender': '#c760ff',\n",
       " 'xkcd:ivory': '#ffffcb',\n",
       " 'xkcd:very light purple': '#f6cefc',\n",
       " 'xkcd:light navy': '#155084',\n",
       " 'xkcd:pink red': '#f5054f',\n",
       " 'xkcd:olive brown': '#645403',\n",
       " 'xkcd:poop brown': '#7a5901',\n",
       " 'xkcd:mustard green': '#a8b504',\n",
       " 'xkcd:ocean green': '#3d9973',\n",
       " 'xkcd:very dark blue': '#000133',\n",
       " 'xkcd:dusty green': '#76a973',\n",
       " 'xkcd:light navy blue': '#2e5a88',\n",
       " 'xkcd:minty green': '#0bf77d',\n",
       " 'xkcd:adobe': '#bd6c48',\n",
       " 'xkcd:barney': '#ac1db8',\n",
       " 'xkcd:jade green': '#2baf6a',\n",
       " 'xkcd:bright light blue': '#26f7fd',\n",
       " 'xkcd:light lime': '#aefd6c',\n",
       " 'xkcd:dark khaki': '#9b8f55',\n",
       " 'xkcd:orange yellow': '#ffad01',\n",
       " 'xkcd:ocre': '#c69c04',\n",
       " 'xkcd:maize': '#f4d054',\n",
       " 'xkcd:faded pink': '#de9dac',\n",
       " 'xkcd:british racing green': '#05480d',\n",
       " 'xkcd:sandstone': '#c9ae74',\n",
       " 'xkcd:mud brown': '#60460f',\n",
       " 'xkcd:light sea green': '#98f6b0',\n",
       " 'xkcd:robin egg blue': '#8af1fe',\n",
       " 'xkcd:aqua marine': '#2ee8bb',\n",
       " 'xkcd:dark sea green': '#11875d',\n",
       " 'xkcd:soft pink': '#fdb0c0',\n",
       " 'xkcd:orangey brown': '#b16002',\n",
       " 'xkcd:cherry red': '#f7022a',\n",
       " 'xkcd:burnt yellow': '#d5ab09',\n",
       " 'xkcd:brownish grey': '#86775f',\n",
       " 'xkcd:camel': '#c69f59',\n",
       " 'xkcd:purplish grey': '#7a687f',\n",
       " 'xkcd:marine': '#042e60',\n",
       " 'xkcd:greyish pink': '#c88d94',\n",
       " 'xkcd:pale turquoise': '#a5fbd5',\n",
       " 'xkcd:pastel yellow': '#fffe71',\n",
       " 'xkcd:bluey purple': '#6241c7',\n",
       " 'xkcd:canary yellow': '#fffe40',\n",
       " 'xkcd:faded red': '#d3494e',\n",
       " 'xkcd:sepia': '#985e2b',\n",
       " 'xkcd:coffee': '#a6814c',\n",
       " 'xkcd:bright magenta': '#ff08e8',\n",
       " 'xkcd:mocha': '#9d7651',\n",
       " 'xkcd:ecru': '#feffca',\n",
       " 'xkcd:purpleish': '#98568d',\n",
       " 'xkcd:cranberry': '#9e003a',\n",
       " 'xkcd:darkish green': '#287c37',\n",
       " 'xkcd:brown orange': '#b96902',\n",
       " 'xkcd:dusky rose': '#ba6873',\n",
       " 'xkcd:melon': '#ff7855',\n",
       " 'xkcd:sickly green': '#94b21c',\n",
       " 'xkcd:silver': '#c5c9c7',\n",
       " 'xkcd:purply blue': '#661aee',\n",
       " 'xkcd:purpleish blue': '#6140ef',\n",
       " 'xkcd:hospital green': '#9be5aa',\n",
       " 'xkcd:shit brown': '#7b5804',\n",
       " 'xkcd:mid blue': '#276ab3',\n",
       " 'xkcd:amber': '#feb308',\n",
       " 'xkcd:easter green': '#8cfd7e',\n",
       " 'xkcd:soft blue': '#6488ea',\n",
       " 'xkcd:cerulean blue': '#056eee',\n",
       " 'xkcd:golden brown': '#b27a01',\n",
       " 'xkcd:bright turquoise': '#0ffef9',\n",
       " 'xkcd:red pink': '#fa2a55',\n",
       " 'xkcd:red purple': '#820747',\n",
       " 'xkcd:greyish brown': '#7a6a4f',\n",
       " 'xkcd:vermillion': '#f4320c',\n",
       " 'xkcd:russet': '#a13905',\n",
       " 'xkcd:steel grey': '#6f828a',\n",
       " 'xkcd:lighter purple': '#a55af4',\n",
       " 'xkcd:bright violet': '#ad0afd',\n",
       " 'xkcd:prussian blue': '#004577',\n",
       " 'xkcd:slate green': '#658d6d',\n",
       " 'xkcd:dirty pink': '#ca7b80',\n",
       " 'xkcd:dark blue green': '#005249',\n",
       " 'xkcd:pine': '#2b5d34',\n",
       " 'xkcd:yellowy green': '#bff128',\n",
       " 'xkcd:dark gold': '#b59410',\n",
       " 'xkcd:bluish': '#2976bb',\n",
       " 'xkcd:darkish blue': '#014182',\n",
       " 'xkcd:dull red': '#bb3f3f',\n",
       " 'xkcd:pinky red': '#fc2647',\n",
       " 'xkcd:bronze': '#a87900',\n",
       " 'xkcd:pale teal': '#82cbb2',\n",
       " 'xkcd:military green': '#667c3e',\n",
       " 'xkcd:barbie pink': '#fe46a5',\n",
       " 'xkcd:bubblegum pink': '#fe83cc',\n",
       " 'xkcd:pea soup green': '#94a617',\n",
       " 'xkcd:dark mustard': '#a88905',\n",
       " 'xkcd:shit': '#7f5f00',\n",
       " 'xkcd:medium purple': '#9e43a2',\n",
       " 'xkcd:very dark green': '#062e03',\n",
       " 'xkcd:dirt': '#8a6e45',\n",
       " 'xkcd:dusky pink': '#cc7a8b',\n",
       " 'xkcd:red violet': '#9e0168',\n",
       " 'xkcd:lemon yellow': '#fdff38',\n",
       " 'xkcd:pistachio': '#c0fa8b',\n",
       " 'xkcd:dull yellow': '#eedc5b',\n",
       " 'xkcd:dark lime green': '#7ebd01',\n",
       " 'xkcd:denim blue': '#3b5b92',\n",
       " 'xkcd:teal blue': '#01889f',\n",
       " 'xkcd:lightish blue': '#3d7afd',\n",
       " 'xkcd:purpley blue': '#5f34e7',\n",
       " 'xkcd:light indigo': '#6d5acf',\n",
       " 'xkcd:swamp green': '#748500',\n",
       " 'xkcd:brown green': '#706c11',\n",
       " 'xkcd:dark maroon': '#3c0008',\n",
       " 'xkcd:hot purple': '#cb00f5',\n",
       " 'xkcd:dark forest green': '#002d04',\n",
       " 'xkcd:faded blue': '#658cbb',\n",
       " 'xkcd:drab green': '#749551',\n",
       " 'xkcd:light lime green': '#b9ff66',\n",
       " 'xkcd:snot green': '#9dc100',\n",
       " 'xkcd:yellowish': '#faee66',\n",
       " 'xkcd:light blue green': '#7efbb3',\n",
       " 'xkcd:bordeaux': '#7b002c',\n",
       " 'xkcd:light mauve': '#c292a1',\n",
       " 'xkcd:ocean': '#017b92',\n",
       " 'xkcd:marigold': '#fcc006',\n",
       " 'xkcd:muddy green': '#657432',\n",
       " 'xkcd:dull orange': '#d8863b',\n",
       " 'xkcd:steel': '#738595',\n",
       " 'xkcd:electric purple': '#aa23ff',\n",
       " 'xkcd:fluorescent green': '#08ff08',\n",
       " 'xkcd:yellowish brown': '#9b7a01',\n",
       " 'xkcd:blush': '#f29e8e',\n",
       " 'xkcd:soft green': '#6fc276',\n",
       " 'xkcd:bright orange': '#ff5b00',\n",
       " 'xkcd:lemon': '#fdff52',\n",
       " 'xkcd:purple grey': '#866f85',\n",
       " 'xkcd:acid green': '#8ffe09',\n",
       " 'xkcd:pale lavender': '#eecffe',\n",
       " 'xkcd:violet blue': '#510ac9',\n",
       " 'xkcd:light forest green': '#4f9153',\n",
       " 'xkcd:burnt red': '#9f2305',\n",
       " 'xkcd:khaki green': '#728639',\n",
       " 'xkcd:cerise': '#de0c62',\n",
       " 'xkcd:faded purple': '#916e99',\n",
       " 'xkcd:apricot': '#ffb16d',\n",
       " 'xkcd:dark olive green': '#3c4d03',\n",
       " 'xkcd:grey brown': '#7f7053',\n",
       " 'xkcd:green grey': '#77926f',\n",
       " 'xkcd:true blue': '#010fcc',\n",
       " 'xkcd:pale violet': '#ceaefa',\n",
       " 'xkcd:periwinkle blue': '#8f99fb',\n",
       " 'xkcd:light sky blue': '#c6fcff',\n",
       " 'xkcd:blurple': '#5539cc',\n",
       " 'xkcd:green brown': '#544e03',\n",
       " 'xkcd:bluegreen': '#017a79',\n",
       " 'xkcd:bright teal': '#01f9c6',\n",
       " 'xkcd:brownish yellow': '#c9b003',\n",
       " 'xkcd:pea soup': '#929901',\n",
       " 'xkcd:forest': '#0b5509',\n",
       " 'xkcd:barney purple': '#a00498',\n",
       " 'xkcd:ultramarine': '#2000b1',\n",
       " 'xkcd:purplish': '#94568c',\n",
       " 'xkcd:puke yellow': '#c2be0e',\n",
       " 'xkcd:bluish grey': '#748b97',\n",
       " 'xkcd:dark periwinkle': '#665fd1',\n",
       " 'xkcd:dark lilac': '#9c6da5',\n",
       " 'xkcd:reddish': '#c44240',\n",
       " 'xkcd:light maroon': '#a24857',\n",
       " 'xkcd:dusty purple': '#825f87',\n",
       " 'xkcd:terra cotta': '#c9643b',\n",
       " 'xkcd:avocado': '#90b134',\n",
       " 'xkcd:marine blue': '#01386a',\n",
       " 'xkcd:teal green': '#25a36f',\n",
       " 'xkcd:slate grey': '#59656d',\n",
       " 'xkcd:lighter green': '#75fd63',\n",
       " 'xkcd:electric green': '#21fc0d',\n",
       " 'xkcd:dusty blue': '#5a86ad',\n",
       " 'xkcd:golden yellow': '#fec615',\n",
       " 'xkcd:bright yellow': '#fffd01',\n",
       " 'xkcd:light lavender': '#dfc5fe',\n",
       " 'xkcd:umber': '#b26400',\n",
       " 'xkcd:poop': '#7f5e00',\n",
       " 'xkcd:dark peach': '#de7e5d',\n",
       " 'xkcd:jungle green': '#048243',\n",
       " 'xkcd:eggshell': '#ffffd4',\n",
       " 'xkcd:denim': '#3b638c',\n",
       " 'xkcd:yellow brown': '#b79400',\n",
       " 'xkcd:dull purple': '#84597e',\n",
       " 'xkcd:chocolate brown': '#411900',\n",
       " 'xkcd:wine red': '#7b0323',\n",
       " 'xkcd:neon blue': '#04d9ff',\n",
       " 'xkcd:dirty green': '#667e2c',\n",
       " 'xkcd:light tan': '#fbeeac',\n",
       " 'xkcd:ice blue': '#d7fffe',\n",
       " 'xkcd:cadet blue': '#4e7496',\n",
       " 'xkcd:dark mauve': '#874c62',\n",
       " 'xkcd:very light blue': '#d5ffff',\n",
       " 'xkcd:grey purple': '#826d8c',\n",
       " 'xkcd:pastel pink': '#ffbacd',\n",
       " 'xkcd:very light green': '#d1ffbd',\n",
       " 'xkcd:dark sky blue': '#448ee4',\n",
       " 'xkcd:evergreen': '#05472a',\n",
       " 'xkcd:dull pink': '#d5869d',\n",
       " 'xkcd:aubergine': '#3d0734',\n",
       " 'xkcd:mahogany': '#4a0100',\n",
       " 'xkcd:reddish orange': '#f8481c',\n",
       " 'xkcd:deep green': '#02590f',\n",
       " 'xkcd:vomit green': '#89a203',\n",
       " 'xkcd:purple pink': '#e03fd8',\n",
       " 'xkcd:dusty pink': '#d58a94',\n",
       " 'xkcd:faded green': '#7bb274',\n",
       " 'xkcd:camo green': '#526525',\n",
       " 'xkcd:pinky purple': '#c94cbe',\n",
       " 'xkcd:pink purple': '#db4bda',\n",
       " 'xkcd:brownish red': '#9e3623',\n",
       " 'xkcd:dark rose': '#b5485d',\n",
       " 'xkcd:mud': '#735c12',\n",
       " 'xkcd:brownish': '#9c6d57',\n",
       " 'xkcd:emerald green': '#028f1e',\n",
       " 'xkcd:pale brown': '#b1916e',\n",
       " 'xkcd:dull blue': '#49759c',\n",
       " 'xkcd:burnt umber': '#a0450e',\n",
       " 'xkcd:medium green': '#39ad48',\n",
       " 'xkcd:clay': '#b66a50',\n",
       " 'xkcd:light aqua': '#8cffdb',\n",
       " 'xkcd:light olive green': '#a4be5c',\n",
       " 'xkcd:brownish orange': '#cb7723',\n",
       " 'xkcd:dark aqua': '#05696b',\n",
       " 'xkcd:purplish pink': '#ce5dae',\n",
       " 'xkcd:dark salmon': '#c85a53',\n",
       " 'xkcd:greenish grey': '#96ae8d',\n",
       " 'xkcd:jade': '#1fa774',\n",
       " 'xkcd:ugly green': '#7a9703',\n",
       " 'xkcd:dark beige': '#ac9362',\n",
       " 'xkcd:emerald': '#01a049',\n",
       " 'xkcd:pale red': '#d9544d',\n",
       " 'xkcd:light magenta': '#fa5ff7',\n",
       " 'xkcd:sky': '#82cafc',\n",
       " 'xkcd:light cyan': '#acfffc',\n",
       " 'xkcd:yellow orange': '#fcb001',\n",
       " 'xkcd:reddish purple': '#910951',\n",
       " 'xkcd:reddish pink': '#fe2c54',\n",
       " 'xkcd:orchid': '#c875c4',\n",
       " 'xkcd:dirty yellow': '#cdc50a',\n",
       " 'xkcd:orange red': '#fd411e',\n",
       " 'xkcd:deep red': '#9a0200',\n",
       " 'xkcd:orange brown': '#be6400',\n",
       " 'xkcd:cobalt blue': '#030aa7',\n",
       " 'xkcd:neon pink': '#fe019a',\n",
       " 'xkcd:rose pink': '#f7879a',\n",
       " 'xkcd:greyish purple': '#887191',\n",
       " 'xkcd:raspberry': '#b00149',\n",
       " 'xkcd:aqua green': '#12e193',\n",
       " 'xkcd:salmon pink': '#fe7b7c',\n",
       " 'xkcd:tangerine': '#ff9408',\n",
       " 'xkcd:brownish green': '#6a6e09',\n",
       " 'xkcd:red brown': '#8b2e16',\n",
       " 'xkcd:greenish brown': '#696112',\n",
       " 'xkcd:pumpkin': '#e17701',\n",
       " 'xkcd:pine green': '#0a481e',\n",
       " 'xkcd:charcoal': '#343837',\n",
       " 'xkcd:baby pink': '#ffb7ce',\n",
       " 'xkcd:cornflower': '#6a79f7',\n",
       " 'xkcd:blue violet': '#5d06e9',\n",
       " 'xkcd:chocolate': '#3d1c02',\n",
       " 'xkcd:greyish green': '#82a67d',\n",
       " 'xkcd:scarlet': '#be0119',\n",
       " 'xkcd:green yellow': '#c9ff27',\n",
       " 'xkcd:dark olive': '#373e02',\n",
       " 'xkcd:sienna': '#a9561e',\n",
       " 'xkcd:pastel purple': '#caa0ff',\n",
       " 'xkcd:terracotta': '#ca6641',\n",
       " 'xkcd:aqua blue': '#02d8e9',\n",
       " 'xkcd:sage green': '#88b378',\n",
       " 'xkcd:blood red': '#980002',\n",
       " 'xkcd:deep pink': '#cb0162',\n",
       " 'xkcd:grass': '#5cac2d',\n",
       " 'xkcd:moss': '#769958',\n",
       " 'xkcd:pastel blue': '#a2bffe',\n",
       " 'xkcd:bluish green': '#10a674',\n",
       " 'xkcd:green blue': '#06b48b',\n",
       " 'xkcd:dark tan': '#af884a',\n",
       " 'xkcd:greenish blue': '#0b8b87',\n",
       " 'xkcd:pale orange': '#ffa756',\n",
       " 'xkcd:vomit': '#a2a415',\n",
       " 'xkcd:forrest green': '#154406',\n",
       " 'xkcd:dark lavender': '#856798',\n",
       " 'xkcd:dark violet': '#34013f',\n",
       " 'xkcd:purple blue': '#632de9',\n",
       " 'xkcd:dark cyan': '#0a888a',\n",
       " 'xkcd:olive drab': '#6f7632',\n",
       " 'xkcd:pinkish': '#d46a7e',\n",
       " 'xkcd:cobalt': '#1e488f',\n",
       " 'xkcd:neon purple': '#bc13fe',\n",
       " 'xkcd:light turquoise': '#7ef4cc',\n",
       " 'xkcd:apple green': '#76cd26',\n",
       " 'xkcd:dull green': '#74a662',\n",
       " 'xkcd:wine': '#80013f',\n",
       " 'xkcd:powder blue': '#b1d1fc',\n",
       " 'xkcd:off white': '#ffffe4',\n",
       " 'xkcd:electric blue': '#0652ff',\n",
       " 'xkcd:dark turquoise': '#045c5a',\n",
       " 'xkcd:blue purple': '#5729ce',\n",
       " 'xkcd:azure': '#069af3',\n",
       " 'xkcd:bright red': '#ff000d',\n",
       " 'xkcd:pinkish red': '#f10c45',\n",
       " 'xkcd:cornflower blue': '#5170d7',\n",
       " 'xkcd:light olive': '#acbf69',\n",
       " 'xkcd:grape': '#6c3461',\n",
       " 'xkcd:greyish blue': '#5e819d',\n",
       " 'xkcd:purplish blue': '#601ef9',\n",
       " 'xkcd:yellowish green': '#b0dd16',\n",
       " 'xkcd:greenish yellow': '#cdfd02',\n",
       " 'xkcd:medium blue': '#2c6fbb',\n",
       " 'xkcd:dusty rose': '#c0737a',\n",
       " 'xkcd:light violet': '#d6b4fc',\n",
       " 'xkcd:midnight blue': '#020035',\n",
       " 'xkcd:bluish purple': '#703be7',\n",
       " 'xkcd:red orange': '#fd3c06',\n",
       " 'xkcd:dark magenta': '#960056',\n",
       " 'xkcd:greenish': '#40a368',\n",
       " 'xkcd:ocean blue': '#03719c',\n",
       " 'xkcd:coral': '#fc5a50',\n",
       " 'xkcd:cream': '#ffffc2',\n",
       " 'xkcd:reddish brown': '#7f2b0a',\n",
       " 'xkcd:burnt sienna': '#b04e0f',\n",
       " 'xkcd:brick': '#a03623',\n",
       " 'xkcd:sage': '#87ae73',\n",
       " 'xkcd:grey green': '#789b73',\n",
       " 'xkcd:white': '#ffffff',\n",
       " \"xkcd:robin's egg blue\": '#98eff9',\n",
       " 'xkcd:moss green': '#658b38',\n",
       " 'xkcd:steel blue': '#5a7d9a',\n",
       " 'xkcd:eggplant': '#380835',\n",
       " 'xkcd:light yellow': '#fffe7a',\n",
       " 'xkcd:leaf green': '#5ca904',\n",
       " 'xkcd:light grey': '#d8dcd6',\n",
       " 'xkcd:puke': '#a5a502',\n",
       " 'xkcd:pinkish purple': '#d648d7',\n",
       " 'xkcd:sea blue': '#047495',\n",
       " 'xkcd:pale purple': '#b790d4',\n",
       " 'xkcd:slate blue': '#5b7c99',\n",
       " 'xkcd:blue grey': '#607c8e',\n",
       " 'xkcd:hunter green': '#0b4008',\n",
       " 'xkcd:fuchsia': '#ed0dd9',\n",
       " 'xkcd:crimson': '#8c000f',\n",
       " 'xkcd:pale yellow': '#ffff84',\n",
       " 'xkcd:ochre': '#bf9005',\n",
       " 'xkcd:mustard yellow': '#d2bd0a',\n",
       " 'xkcd:light red': '#ff474c',\n",
       " 'xkcd:cerulean': '#0485d1',\n",
       " 'xkcd:pale pink': '#ffcfdc',\n",
       " 'xkcd:deep blue': '#040273',\n",
       " 'xkcd:rust': '#a83c09',\n",
       " 'xkcd:light teal': '#90e4c1',\n",
       " 'xkcd:slate': '#516572',\n",
       " 'xkcd:goldenrod': '#fac205',\n",
       " 'xkcd:dark yellow': '#d5b60a',\n",
       " 'xkcd:dark grey': '#363737',\n",
       " 'xkcd:army green': '#4b5d16',\n",
       " 'xkcd:grey blue': '#6b8ba4',\n",
       " 'xkcd:seafoam': '#80f9ad',\n",
       " 'xkcd:puce': '#a57e52',\n",
       " 'xkcd:spring green': '#a9f971',\n",
       " 'xkcd:dark orange': '#c65102',\n",
       " 'xkcd:sand': '#e2ca76',\n",
       " 'xkcd:pastel green': '#b0ff9d',\n",
       " 'xkcd:mint': '#9ffeb0',\n",
       " 'xkcd:light orange': '#fdaa48',\n",
       " 'xkcd:bright pink': '#fe01b1',\n",
       " 'xkcd:chartreuse': '#c1f80a',\n",
       " 'xkcd:deep purple': '#36013f',\n",
       " 'xkcd:dark brown': '#341c02',\n",
       " 'xkcd:taupe': '#b9a281',\n",
       " 'xkcd:pea green': '#8eab12',\n",
       " 'xkcd:puke green': '#9aae07',\n",
       " 'xkcd:kelly green': '#02ab2e',\n",
       " 'xkcd:seafoam green': '#7af9ab',\n",
       " 'xkcd:blue green': '#137e6d',\n",
       " 'xkcd:khaki': '#aaa662',\n",
       " 'xkcd:burgundy': '#610023',\n",
       " 'xkcd:dark teal': '#014d4e',\n",
       " 'xkcd:brick red': '#8f1402',\n",
       " 'xkcd:royal purple': '#4b006e',\n",
       " 'xkcd:plum': '#580f41',\n",
       " 'xkcd:mint green': '#8fff9f',\n",
       " 'xkcd:gold': '#dbb40c',\n",
       " 'xkcd:baby blue': '#a2cffe',\n",
       " 'xkcd:yellow green': '#c0fb2d',\n",
       " 'xkcd:bright purple': '#be03fd',\n",
       " 'xkcd:dark red': '#840000',\n",
       " 'xkcd:pale blue': '#d0fefe',\n",
       " 'xkcd:grass green': '#3f9b0b',\n",
       " 'xkcd:navy': '#01153e',\n",
       " 'xkcd:aquamarine': '#04d8b2',\n",
       " 'xkcd:burnt orange': '#c04e01',\n",
       " 'xkcd:neon green': '#0cff0c',\n",
       " 'xkcd:bright blue': '#0165fc',\n",
       " 'xkcd:rose': '#cf6275',\n",
       " 'xkcd:light pink': '#ffd1df',\n",
       " 'xkcd:mustard': '#ceb301',\n",
       " 'xkcd:indigo': '#380282',\n",
       " 'xkcd:lime': '#aaff32',\n",
       " 'xkcd:sea green': '#53fca1',\n",
       " 'xkcd:periwinkle': '#8e82fe',\n",
       " 'xkcd:dark pink': '#cb416b',\n",
       " 'xkcd:olive green': '#677a04',\n",
       " 'xkcd:peach': '#ffb07c',\n",
       " 'xkcd:pale green': '#c7fdb5',\n",
       " 'xkcd:light brown': '#ad8150',\n",
       " 'xkcd:hot pink': '#ff028d',\n",
       " 'xkcd:black': '#000000',\n",
       " 'xkcd:lilac': '#cea2fd',\n",
       " 'xkcd:navy blue': '#001146',\n",
       " 'xkcd:royal blue': '#0504aa',\n",
       " 'xkcd:beige': '#e6daa6',\n",
       " 'xkcd:salmon': '#ff796c',\n",
       " 'xkcd:olive': '#6e750e',\n",
       " 'xkcd:maroon': '#650021',\n",
       " 'xkcd:bright green': '#01ff07',\n",
       " 'xkcd:dark purple': '#35063e',\n",
       " 'xkcd:mauve': '#ae7181',\n",
       " 'xkcd:forest green': '#06470c',\n",
       " 'xkcd:aqua': '#13eac9',\n",
       " 'xkcd:cyan': '#00ffff',\n",
       " 'xkcd:tan': '#d1b26f',\n",
       " 'xkcd:dark blue': '#00035b',\n",
       " 'xkcd:lavender': '#c79fef',\n",
       " 'xkcd:turquoise': '#06c2ac',\n",
       " 'xkcd:dark green': '#033500',\n",
       " 'xkcd:violet': '#9a0eea',\n",
       " 'xkcd:light purple': '#bf77f6',\n",
       " 'xkcd:lime green': '#89fe05',\n",
       " 'xkcd:grey': '#929591',\n",
       " 'xkcd:sky blue': '#75bbfd',\n",
       " 'xkcd:yellow': '#ffff14',\n",
       " 'xkcd:magenta': '#c20078',\n",
       " 'xkcd:light green': '#96f97b',\n",
       " 'xkcd:orange': '#f97306',\n",
       " 'xkcd:teal': '#029386',\n",
       " 'xkcd:light blue': '#95d0fc',\n",
       " 'xkcd:red': '#e50000',\n",
       " 'xkcd:brown': '#653700',\n",
       " 'xkcd:pink': '#ff81c0',\n",
       " 'xkcd:blue': '#0343df',\n",
       " 'xkcd:green': '#15b01a',\n",
       " 'xkcd:purple': '#7e1e9c',\n",
       " 'xkcd:gray teal': '#5e9b8a',\n",
       " 'xkcd:purpley gray': '#947e94',\n",
       " 'xkcd:light gray green': '#b7e1a1',\n",
       " 'xkcd:reddish gray': '#997570',\n",
       " 'xkcd:battleship gray': '#6b7c85',\n",
       " 'xkcd:charcoal gray': '#3c4142',\n",
       " 'xkcd:grayish teal': '#719f91',\n",
       " 'xkcd:gray/green': '#86a17d',\n",
       " 'xkcd:cool gray': '#95a3a6',\n",
       " 'xkcd:dark blue gray': '#1f3b4d',\n",
       " 'xkcd:bluey gray': '#89a0b0',\n",
       " 'xkcd:greeny gray': '#7ea07a',\n",
       " 'xkcd:bluegray': '#85a3b2',\n",
       " 'xkcd:light blue gray': '#b7c9e2',\n",
       " 'xkcd:gray/blue': '#647d8e',\n",
       " 'xkcd:brown gray': '#8d8468',\n",
       " 'xkcd:blue/gray': '#758da3',\n",
       " 'xkcd:grayblue': '#77a1b5',\n",
       " 'xkcd:dark gray blue': '#29465b',\n",
       " 'xkcd:grayish': '#a8a495',\n",
       " 'xkcd:light gray blue': '#9dbcd4',\n",
       " 'xkcd:pale gray': '#fdfdfe',\n",
       " 'xkcd:warm gray': '#978a84',\n",
       " 'xkcd:gray pink': '#c3909b',\n",
       " 'xkcd:medium gray': '#7d7f7c',\n",
       " 'xkcd:pinkish gray': '#c8aca9',\n",
       " 'xkcd:brownish gray': '#86775f',\n",
       " 'xkcd:purplish gray': '#7a687f',\n",
       " 'xkcd:grayish pink': '#c88d94',\n",
       " 'xkcd:grayish brown': '#7a6a4f',\n",
       " 'xkcd:steel gray': '#6f828a',\n",
       " 'xkcd:purple gray': '#866f85',\n",
       " 'xkcd:gray brown': '#7f7053',\n",
       " 'xkcd:green gray': '#77926f',\n",
       " 'xkcd:bluish gray': '#748b97',\n",
       " 'xkcd:slate gray': '#59656d',\n",
       " 'xkcd:gray purple': '#826d8c',\n",
       " 'xkcd:greenish gray': '#96ae8d',\n",
       " 'xkcd:grayish purple': '#887191',\n",
       " 'xkcd:grayish green': '#82a67d',\n",
       " 'xkcd:grayish blue': '#5e819d',\n",
       " 'xkcd:gray green': '#789b73',\n",
       " 'xkcd:light gray': '#d8dcd6',\n",
       " 'xkcd:blue gray': '#607c8e',\n",
       " 'xkcd:dark gray': '#363737',\n",
       " 'xkcd:gray blue': '#6b8ba4',\n",
       " 'xkcd:gray': '#929591',\n",
       " 'aliceblue': '#F0F8FF',\n",
       " 'antiquewhite': '#FAEBD7',\n",
       " 'aqua': '#00FFFF',\n",
       " 'aquamarine': '#7FFFD4',\n",
       " ...}"
      ]
     },
     "execution_count": 123,
     "metadata": {},
     "output_type": "execute_result"
    }
   ],
   "source": [
    "matplotlib.colors.get_named_colors_mapping()"
   ]
  },
  {
   "cell_type": "code",
   "execution_count": 125,
   "metadata": {},
   "outputs": [
    {
     "data": {
      "text/plain": [
       "{'aliceblue': '#F0F8FF',\n",
       " 'antiquewhite': '#FAEBD7',\n",
       " 'aqua': '#00FFFF',\n",
       " 'aquamarine': '#7FFFD4',\n",
       " 'azure': '#F0FFFF',\n",
       " 'beige': '#F5F5DC',\n",
       " 'bisque': '#FFE4C4',\n",
       " 'black': '#000000',\n",
       " 'blanchedalmond': '#FFEBCD',\n",
       " 'blue': '#0000FF',\n",
       " 'blueviolet': '#8A2BE2',\n",
       " 'brown': '#A52A2A',\n",
       " 'burlywood': '#DEB887',\n",
       " 'cadetblue': '#5F9EA0',\n",
       " 'chartreuse': '#7FFF00',\n",
       " 'chocolate': '#D2691E',\n",
       " 'coral': '#FF7F50',\n",
       " 'cornflowerblue': '#6495ED',\n",
       " 'cornsilk': '#FFF8DC',\n",
       " 'crimson': '#DC143C',\n",
       " 'cyan': '#00FFFF',\n",
       " 'darkblue': '#00008B',\n",
       " 'darkcyan': '#008B8B',\n",
       " 'darkgoldenrod': '#B8860B',\n",
       " 'darkgray': '#A9A9A9',\n",
       " 'darkgreen': '#006400',\n",
       " 'darkgrey': '#A9A9A9',\n",
       " 'darkkhaki': '#BDB76B',\n",
       " 'darkmagenta': '#8B008B',\n",
       " 'darkolivegreen': '#556B2F',\n",
       " 'darkorange': '#FF8C00',\n",
       " 'darkorchid': '#9932CC',\n",
       " 'darkred': '#8B0000',\n",
       " 'darksalmon': '#E9967A',\n",
       " 'darkseagreen': '#8FBC8F',\n",
       " 'darkslateblue': '#483D8B',\n",
       " 'darkslategray': '#2F4F4F',\n",
       " 'darkslategrey': '#2F4F4F',\n",
       " 'darkturquoise': '#00CED1',\n",
       " 'darkviolet': '#9400D3',\n",
       " 'deeppink': '#FF1493',\n",
       " 'deepskyblue': '#00BFFF',\n",
       " 'dimgray': '#696969',\n",
       " 'dimgrey': '#696969',\n",
       " 'dodgerblue': '#1E90FF',\n",
       " 'firebrick': '#B22222',\n",
       " 'floralwhite': '#FFFAF0',\n",
       " 'forestgreen': '#228B22',\n",
       " 'fuchsia': '#FF00FF',\n",
       " 'gainsboro': '#DCDCDC',\n",
       " 'ghostwhite': '#F8F8FF',\n",
       " 'gold': '#FFD700',\n",
       " 'goldenrod': '#DAA520',\n",
       " 'gray': '#808080',\n",
       " 'green': '#008000',\n",
       " 'greenyellow': '#ADFF2F',\n",
       " 'grey': '#808080',\n",
       " 'honeydew': '#F0FFF0',\n",
       " 'hotpink': '#FF69B4',\n",
       " 'indianred': '#CD5C5C',\n",
       " 'indigo': '#4B0082',\n",
       " 'ivory': '#FFFFF0',\n",
       " 'khaki': '#F0E68C',\n",
       " 'lavender': '#E6E6FA',\n",
       " 'lavenderblush': '#FFF0F5',\n",
       " 'lawngreen': '#7CFC00',\n",
       " 'lemonchiffon': '#FFFACD',\n",
       " 'lightblue': '#ADD8E6',\n",
       " 'lightcoral': '#F08080',\n",
       " 'lightcyan': '#E0FFFF',\n",
       " 'lightgoldenrodyellow': '#FAFAD2',\n",
       " 'lightgray': '#D3D3D3',\n",
       " 'lightgreen': '#90EE90',\n",
       " 'lightgrey': '#D3D3D3',\n",
       " 'lightpink': '#FFB6C1',\n",
       " 'lightsalmon': '#FFA07A',\n",
       " 'lightseagreen': '#20B2AA',\n",
       " 'lightskyblue': '#87CEFA',\n",
       " 'lightslategray': '#778899',\n",
       " 'lightslategrey': '#778899',\n",
       " 'lightsteelblue': '#B0C4DE',\n",
       " 'lightyellow': '#FFFFE0',\n",
       " 'lime': '#00FF00',\n",
       " 'limegreen': '#32CD32',\n",
       " 'linen': '#FAF0E6',\n",
       " 'magenta': '#FF00FF',\n",
       " 'maroon': '#800000',\n",
       " 'mediumaquamarine': '#66CDAA',\n",
       " 'mediumblue': '#0000CD',\n",
       " 'mediumorchid': '#BA55D3',\n",
       " 'mediumpurple': '#9370DB',\n",
       " 'mediumseagreen': '#3CB371',\n",
       " 'mediumslateblue': '#7B68EE',\n",
       " 'mediumspringgreen': '#00FA9A',\n",
       " 'mediumturquoise': '#48D1CC',\n",
       " 'mediumvioletred': '#C71585',\n",
       " 'midnightblue': '#191970',\n",
       " 'mintcream': '#F5FFFA',\n",
       " 'mistyrose': '#FFE4E1',\n",
       " 'moccasin': '#FFE4B5',\n",
       " 'navajowhite': '#FFDEAD',\n",
       " 'navy': '#000080',\n",
       " 'oldlace': '#FDF5E6',\n",
       " 'olive': '#808000',\n",
       " 'olivedrab': '#6B8E23',\n",
       " 'orange': '#FFA500',\n",
       " 'orangered': '#FF4500',\n",
       " 'orchid': '#DA70D6',\n",
       " 'palegoldenrod': '#EEE8AA',\n",
       " 'palegreen': '#98FB98',\n",
       " 'paleturquoise': '#AFEEEE',\n",
       " 'palevioletred': '#DB7093',\n",
       " 'papayawhip': '#FFEFD5',\n",
       " 'peachpuff': '#FFDAB9',\n",
       " 'peru': '#CD853F',\n",
       " 'pink': '#FFC0CB',\n",
       " 'plum': '#DDA0DD',\n",
       " 'powderblue': '#B0E0E6',\n",
       " 'purple': '#800080',\n",
       " 'rebeccapurple': '#663399',\n",
       " 'red': '#FF0000',\n",
       " 'rosybrown': '#BC8F8F',\n",
       " 'royalblue': '#4169E1',\n",
       " 'saddlebrown': '#8B4513',\n",
       " 'salmon': '#FA8072',\n",
       " 'sandybrown': '#F4A460',\n",
       " 'seagreen': '#2E8B57',\n",
       " 'seashell': '#FFF5EE',\n",
       " 'sienna': '#A0522D',\n",
       " 'silver': '#C0C0C0',\n",
       " 'skyblue': '#87CEEB',\n",
       " 'slateblue': '#6A5ACD',\n",
       " 'slategray': '#708090',\n",
       " 'slategrey': '#708090',\n",
       " 'snow': '#FFFAFA',\n",
       " 'springgreen': '#00FF7F',\n",
       " 'steelblue': '#4682B4',\n",
       " 'tan': '#D2B48C',\n",
       " 'teal': '#008080',\n",
       " 'thistle': '#D8BFD8',\n",
       " 'tomato': '#FF6347',\n",
       " 'turquoise': '#40E0D0',\n",
       " 'violet': '#EE82EE',\n",
       " 'wheat': '#F5DEB3',\n",
       " 'white': '#FFFFFF',\n",
       " 'whitesmoke': '#F5F5F5',\n",
       " 'yellow': '#FFFF00',\n",
       " 'yellowgreen': '#9ACD32'}"
      ]
     },
     "execution_count": 125,
     "metadata": {},
     "output_type": "execute_result"
    }
   ],
   "source": [
    "matplotlib.colors.cnames"
   ]
  },
  {
   "cell_type": "code",
   "execution_count": 24,
   "metadata": {},
   "outputs": [],
   "source": [
    "## for no reason :)\n",
    "plt.style.use('fivethirtyeight')\n",
    "plt.show()"
   ]
  },
  {
   "cell_type": "code",
   "execution_count": 22,
   "metadata": {},
   "outputs": [],
   "source": [
    "%matplotlib inline\n",
    "#have to restart kernel to use. "
   ]
  },
  {
   "cell_type": "code",
   "execution_count": 25,
   "metadata": {},
   "outputs": [
    {
     "data": {
      "image/png": "[encoded data removed]",
      "text/plain": [
       "<Figure size 432x288 with 1 Axes>"
      ]
     },
     "metadata": {},
     "output_type": "display_data"
    }
   ],
   "source": [
    "plt.scatter(x = [1,4,6,8], y = [1,8,2,1])\n",
    "plt.show()"
   ]
  },
  {
   "cell_type": "markdown",
   "metadata": {},
   "source": [
    "\n",
    "<img src=\"https://python-graph-gallery.com/wp-content/uploads/Logo_PGG_full-3.jpg\" width=600>\n",
    "\n",
    "The [Python Graph Gallery](https://python-graph-gallery.com/matplotlib/) has some great resources to guide you through the code needed to create each type of matplotlib plot. \n",
    "\n",
    "## Plot Anatomy\n",
    "Let's spend some time on the terminology of a plot. There are a lot of options to set in matplotlib plots, so let's identify some common terminology. \n",
    "\n",
    "The sequence of events with matplotlib are:\n",
    "\n",
    "| Step | Code Example |\n",
    "| :---- | :------------ |\n",
    "| 1. Create figure | `fig = plt.figure(figsize=(2, 4))` |\n",
    "| 2. Create axis object | `ax = plt.subplot()` |\n",
    "| 3. Make adjustments | `plt.title`, `ax.set_xticks`, etc |\n",
    "| 4. Show final plot | `plt.show()` . |\n",
    "\n",
    "\n",
    "The [Pyplot tutorial](https://matplotlib.org/tutorials/introductory/pyplot.html) shows a list of options you can set within a plot.\n",
    "\n",
    "<img src=\"https://matplotlib.org/_images/sphx_glr_anatomy_001.png\" width=550>\n",
    "\n",
    "\n",
    "Let's look [how they created this plot.](https://matplotlib.org/gallery/showcase/anatomy.html)\n",
    "\n",
    "[What is ax and figure?](https://stackoverflow.com/questions/34162443/why-do-many-examples-use-fig-ax-plt-subplots-in-matplotlib-pyplot-python)"
   ]
  },
  {
   "cell_type": "code",
   "execution_count": 26,
   "metadata": {},
   "outputs": [
    {
     "data": {
      "image/png": "[encoded data removed]",
      "text/plain": [
       "<Figure size 432x288 with 1 Axes>"
      ]
     },
     "metadata": {},
     "output_type": "display_data"
    }
   ],
   "source": [
    "fig=plt.figure()\n",
    "ax=plt.axes()"
   ]
  },
  {
   "cell_type": "code",
   "execution_count": 27,
   "metadata": {},
   "outputs": [
    {
     "data": {
      "text/plain": [
       "[<matplotlib.lines.Line2D at 0x2479c7e35c0>]"
      ]
     },
     "execution_count": 27,
     "metadata": {},
     "output_type": "execute_result"
    },
    {
     "data": {
      "image/png": "[encoded data removed]",
      "text/plain": [
       "<Figure size 432x288 with 1 Axes>"
      ]
     },
     "metadata": {
      "needs_background": "light"
     },
     "output_type": "display_data"
    }
   ],
   "source": [
    "%matplotlib inline\n",
    "fig = plt.figure()\n",
    "ax = plt.axes()\n",
    "x = np.linspace(0, 10, 1000)\n",
    "ax.plot(x, np.sin(x))\n",
    "ax.plot(x, np.cos(x))"
   ]
  },
  {
   "cell_type": "code",
   "execution_count": 39,
   "metadata": {},
   "outputs": [
    {
     "ename": "AttributeError",
     "evalue": "module 'matplotlib.pyplot' has no attribute 'colour'",
     "output_type": "error",
     "traceback": [
      "\u001b[1;31m---------------------------------------------------------------------------\u001b[0m",
      "\u001b[1;31mAttributeError\u001b[0m                            Traceback (most recent call last)",
      "\u001b[1;32m<ipython-input-39-9d7bfda52afa>\u001b[0m in \u001b[0;36m<module>\u001b[1;34m\u001b[0m\n\u001b[1;32m----> 1\u001b[1;33m \u001b[0mplt\u001b[0m\u001b[1;33m.\u001b[0m\u001b[0mcolour\u001b[0m\u001b[1;33m.\u001b[0m\u001b[0mavailable\u001b[0m\u001b[1;33m[\u001b[0m\u001b[1;33m:\u001b[0m\u001b[1;36m20\u001b[0m\u001b[1;33m]\u001b[0m\u001b[1;33m\u001b[0m\u001b[1;33m\u001b[0m\u001b[0m\n\u001b[0m",
      "\u001b[1;31mAttributeError\u001b[0m: module 'matplotlib.pyplot' has no attribute 'colour'"
     ]
    }
   ],
   "source": [
    "plt.colour.available[:20]"
   ]
  },
  {
   "cell_type": "code",
   "execution_count": 37,
   "metadata": {},
   "outputs": [
    {
     "data": {
      "text/plain": [
       "[<matplotlib.lines.Line2D at 0x2479cd44940>]"
      ]
     },
     "execution_count": 37,
     "metadata": {},
     "output_type": "execute_result"
    },
    {
     "data": {
      "image/png": "[encoded data removed]",
      "text/plain": [
       "<Figure size 432x288 with 1 Axes>"
      ]
     },
     "metadata": {
      "needs_background": "light"
     },
     "output_type": "display_data"
    }
   ],
   "source": [
    "plt.plot(x, np.sin(x),color='m')\n",
    "plt.plot(x, np.cos(x), linestyle=':')"
   ]
  },
  {
   "cell_type": "code",
   "execution_count": 42,
   "metadata": {},
   "outputs": [
    {
     "data": {
      "text/plain": [
       "[<matplotlib.lines.Line2D at 0x2479de405f8>]"
      ]
     },
     "execution_count": 42,
     "metadata": {},
     "output_type": "execute_result"
    },
    {
     "data": {
      "image/png": "[encoded data removed]",
      "text/plain": [
       "<Figure size 432x288 with 1 Axes>"
      ]
     },
     "metadata": {
      "needs_background": "light"
     },
     "output_type": "display_data"
    }
   ],
   "source": [
    "## limits of the axes\n",
    "\n",
    "plt.plot(x, np.sin(x))\n",
    "plt.plot(x, 10*np.cos(x), linestyle= '-.')"
   ]
  },
  {
   "cell_type": "code",
   "execution_count": 47,
   "metadata": {},
   "outputs": [
    {
     "data": {
      "text/plain": [
       "(-20, 20)"
      ]
     },
     "execution_count": 47,
     "metadata": {},
     "output_type": "execute_result"
    },
    {
     "data": {
      "image/png": "[encoded data removed]",
      "text/plain": [
       "<Figure size 432x288 with 1 Axes>"
      ]
     },
     "metadata": {
      "needs_background": "light"
     },
     "output_type": "display_data"
    }
   ],
   "source": [
    "## limits of the axes\n",
    "\n",
    "plt.plot(x, np.sin(x))\n",
    "plt.plot(x, 4*np.cos(x), linestyle= '-.')\n",
    "plt.xlim(-4,4)\n",
    "plt.ylim(-20,20)"
   ]
  },
  {
   "cell_type": "code",
   "execution_count": 50,
   "metadata": {},
   "outputs": [
    {
     "data": {
      "text/plain": [
       "[-10, 10, -5, 5]"
      ]
     },
     "execution_count": 50,
     "metadata": {},
     "output_type": "execute_result"
    },
    {
     "data": {
      "image/png": "[encoded data removed]",
      "text/plain": [
       "<Figure size 432x288 with 1 Axes>"
      ]
     },
     "metadata": {
      "needs_background": "light"
     },
     "output_type": "display_data"
    }
   ],
   "source": [
    "## limits of the axes\n",
    "\n",
    "plt.plot(x, np.sin(x))\n",
    "plt.plot(x, 4*np.cos(x), linestyle= '-.')\n",
    "## [xmin, xmax, ymin, ymax]\n",
    "plt.axis([-10,10, -5, 5])"
   ]
  },
  {
   "cell_type": "code",
   "execution_count": 59,
   "metadata": {},
   "outputs": [
    {
     "data": {
      "text/plain": [
       "(0.0, 10.0, -4.0, 4.0)"
      ]
     },
     "execution_count": 59,
     "metadata": {},
     "output_type": "execute_result"
    },
    {
     "data": {
      "image/png": "[encoded data removed]",
      "text/plain": [
       "<Figure size 432x288 with 1 Axes>"
      ]
     },
     "metadata": {
      "needs_background": "light"
     },
     "output_type": "display_data"
    }
   ],
   "source": [
    "plt.plot(x, np.sin(x))\n",
    "plt.plot(x, 4*np.cos(x), linestyle= '-.')\n",
    "## we can use 'equal', 'tight', 'scaled' etc.\n",
    "plt.axis('equal')"
   ]
  },
  {
   "cell_type": "markdown",
   "metadata": {},
   "source": [
    "### Labeling Plots"
   ]
  },
  {
   "cell_type": "code",
   "execution_count": 79,
   "metadata": {},
   "outputs": [
    {
     "data": {
      "text/plain": [
       "<matplotlib.legend.Legend at 0x2479f61b278>"
      ]
     },
     "execution_count": 79,
     "metadata": {},
     "output_type": "execute_result"
    },
    {
     "data": {
      "image/png": "[encoded data removed]",
      "text/plain": [
       "<Figure size 432x288 with 1 Axes>"
      ]
     },
     "metadata": {
      "needs_background": "light"
     },
     "output_type": "display_data"
    }
   ],
   "source": [
    "plt.plot(x, (np.sin(x**2)), label =\"Murat's favorite plot\")\n",
    "\n",
    "plt.legend(loc=2)\n",
    "plt.plot(x, (np.cos(x**2)), label =\"other's favorite plot\")\n",
    "plt.title(\"$\\sin(x^{2})$ Curve\")\n",
    "plt.xlabel(\"x\")\n",
    "plt.ylabel(\"$\\sin(x^{2})$\");\n",
    "plt.legend(loc=4) #legend pulls from abel"
   ]
  },
  {
   "cell_type": "markdown",
   "metadata": {},
   "source": [
    "Transition from `plt` to `ax`\n",
    "\n",
    "<img src='images/styles.png' width = 300 />"
   ]
  },
  {
   "cell_type": "code",
   "execution_count": 81,
   "metadata": {},
   "outputs": [
    {
     "data": {
      "image/png": "[encoded data removed]",
      "text/plain": [
       "<Figure size 432x288 with 1 Axes>"
      ]
     },
     "metadata": {
      "needs_background": "light"
     },
     "output_type": "display_data"
    }
   ],
   "source": [
    "ax = plt.axes()\n",
    "ax.plot(x, np.sin(x))\n",
    "ax.set(xlim=(0, 10), ylim=(-2, 2),\n",
    "       xlabel='x', ylabel='sin(x)',\n",
    "       title='A Simple Plot');\n",
    "\n"
   ]
  },
  {
   "cell_type": "markdown",
   "metadata": {},
   "source": [
    "[For the scatter plots](https://jakevdp.github.io/PythonDataScienceHandbook/04.02-simple-scatter-plots.html)"
   ]
  },
  {
   "cell_type": "markdown",
   "metadata": {},
   "source": [
    "## Barplots\n",
    "Barplots are used for displaying __one dimensional__, __categorical__ data. You call plt.bar with two arguments:\n",
    "- the x — a list of x-positions for each bar\n",
    "- the y-values — a list of heights for each bar"
   ]
  },
  {
   "cell_type": "code",
   "execution_count": 92,
   "metadata": {},
   "outputs": [],
   "source": [
    "import pandas as pd"
   ]
  },
  {
   "cell_type": "code",
   "execution_count": 93,
   "metadata": {
    "scrolled": false
   },
   "outputs": [
    {
     "data": {
      "image/png": "[encoded data removed]",
      "text/plain": [
       "<Figure size 432x288 with 1 Axes>"
      ]
     },
     "metadata": {
      "needs_background": "light"
     },
     "output_type": "display_data"
    }
   ],
   "source": [
    "# an example of a bar plot\n",
    "#we can import pandas series, of course.  And numpy arrays.  \n",
    "#Notice pandas has flexible plotting options as well.  \n",
    "ax = plt.subplot()\n",
    "our_dogs = [\"dengue\", \"dolce\", \"murray\", \"dog_a\", \"dog_b\", \"dog_c\"]\n",
    "dogs_age = [5, 8, 5, 4, 6, 7]\n",
    "\n",
    "plt.bar(our_dogs, height=dogs_age)\n",
    "#Don't need x= and height=\n",
    "#Could aslo use:  \n",
    "#plt.bar(x=range(len(our_dogs)), height=dogs_age)\n",
    "\n",
    "# # set ticks values, as a method of the axes\n",
    "# ax.set_xticks(range(0, len(our_dogs)))\n",
    "# ax.set_xticklabels(our_dogs)\n",
    "\n",
    "plt.title('age of random dogs')\n",
    "plt.xlabel('dogs')\n",
    "plt.ylabel('age')\n",
    "plt.xticks(rotation=45)\n",
    "plt.show()"
   ]
  },
  {
   "cell_type": "code",
   "execution_count": 106,
   "metadata": {
    "scrolled": false
   },
   "outputs": [
    {
     "data": {
      "text/plain": [
       "Text(0.5, 0, 'bear')"
      ]
     },
     "execution_count": 106,
     "metadata": {},
     "output_type": "execute_result"
    },
    {
     "data": {
      "image/png": "[encoded data removed]",
      "text/plain": [
       "<Figure size 720x576 with 2 Axes>"
      ]
     },
     "metadata": {
      "needs_background": "light"
     },
     "output_type": "display_data"
    },
    {
     "data": {
      "image/png": "[encoded data removed]",
      "text/plain": [
       "<Figure size 72x72 with 1 Axes>"
      ]
     },
     "metadata": {
      "needs_background": "light"
     },
     "output_type": "display_data"
    }
   ],
   "source": [
    "# utilizing the subplot function and creating subplots\n",
    "our_cats = [\"cat_1\", \"cat_2\", \"cat_3\", \"cat_4\", \"cat_5\", \"cat_6\"]\n",
    "cats_age = [14, 16, 17, 20, 18, 24]\n",
    "fig = plt.figure(figsize=(10, 8))\n",
    "plt.subplot(1,2,1) \n",
    "#Can also be given as 211.  Two rows, 1 column, 1st entry.   \n",
    "plt.bar(range(len(our_dogs)), dogs_age, color='pink')\n",
    "plt.title('dog age')\n",
    "plt.xlabel('dog')\n",
    "plt.subplot(1, 2, 2)\n",
    "plt.figure(figsize=(1,1))\n",
    "plt.bar(range(len(our_cats)), cats_age, color='green')\n",
    "plt.title('cat age')\n",
    "\n",
    "plt.xlabel('bear')"
   ]
  },
  {
   "cell_type": "code",
   "execution_count": 108,
   "metadata": {
    "scrolled": true
   },
   "outputs": [
    {
     "data": {
      "text/plain": [
       "<matplotlib.legend.Legend at 0x247a27cf198>"
      ]
     },
     "execution_count": 108,
     "metadata": {},
     "output_type": "execute_result"
    },
    {
     "data": {
      "image/png": "[encoded data removed]",
      "text/plain": [
       "<Figure size 432x288 with 1 Axes>"
      ]
     },
     "metadata": {
      "needs_background": "light"
     },
     "output_type": "display_data"
    }
   ],
   "source": [
    "# we can create overlaid or side-by-side bargraph. You need\n",
    "# to shift the x value by width to accommodate for two graphs.\n",
    "\n",
    "fig = plt.figure()\n",
    "n = 1  # This is our first dataset (out of 2)\n",
    "t = 2  # Number of datasets\n",
    "d = 6  # Number of sets of bars\n",
    "w = 0.8  # Width of each bar\n",
    "\n",
    "# essentially, this list comprehension gives us the position\n",
    "dog_values = [t*element + w*n for element in range(d)]\n",
    "\n",
    "# of the position of dogs\n",
    "plt.bar(dog_values, dogs_age, color='green')\n",
    "\n",
    "\n",
    "n = 2  # This is our second dataset (out of 2)\n",
    "t = 2  # Number of datasets\n",
    "d = 6  # Number of sets of bars\n",
    "w = 0.8  # Width of each bar\n",
    "\n",
    "cat_values = [t*element + w*n for element in range(d)]\n",
    "\n",
    "plt.bar(cat_values, cats_age, color='purple')\n",
    "plt.legend([\"dogs\", \"cats\"])"
   ]
  },
  {
   "cell_type": "code",
   "execution_count": 85,
   "metadata": {},
   "outputs": [
    {
     "name": "stdout",
     "output_type": "stream",
     "text": [
      "[0.8, 2.8, 4.8, 6.8, 8.8, 10.8]\n",
      "[1.6, 3.6, 5.6, 7.6, 9.6, 11.6]\n"
     ]
    }
   ],
   "source": [
    "print(dog_values)\n",
    "print(cat_values)"
   ]
  },
  {
   "cell_type": "code",
   "execution_count": 109,
   "metadata": {
    "scrolled": true
   },
   "outputs": [
    {
     "data": {
      "image/png": "[encoded data removed]",
      "text/plain": [
       "<Figure size 432x288 with 1 Axes>"
      ]
     },
     "metadata": {
      "needs_background": "light"
     },
     "output_type": "display_data"
    }
   ],
   "source": [
    "# stacked barplots\n",
    "ax = plt.subplot()\n",
    "music_festivals = [\"Coachella\", \"Govball\", \"EDC\", \"Ultra\"]\n",
    "ticket_sales_in_millon = [114, 62, 120, 116]\n",
    "people_attended_in_thousands = [126, 114, 130, 110]\n",
    "\n",
    "plt.bar(range(len(music_festivals)),\n",
    "        ticket_sales_in_millon)\n",
    "plt.bar(range(len(music_festivals)),\n",
    "        people_attended_in_thousands,\n",
    "        bottom=ticket_sales_in_millon)\n",
    "\n",
    "plt.legend([\"tix sales\", \"number of people\"])\n",
    "ax.set_xticks(range(0, len(music_festivals)))\n",
    "ax.set_xticklabels(music_festivals)\n",
    "plt.show()\n",
    "\n",
    "#Google how to make annotations with plt"
   ]
  },
  {
   "cell_type": "markdown",
   "metadata": {},
   "source": [
    "homework:  Try to make a plot or two.  "
   ]
  },
  {
   "cell_type": "markdown",
   "metadata": {},
   "source": [
    "## Bar plot - animal shelter dataset\n",
    "\n",
    "Let's make a bar plot comparing dogs and cats by month when they are admitted to the shelter."
   ]
  },
  {
   "cell_type": "code",
   "execution_count": 112,
   "metadata": {},
   "outputs": [],
   "source": [
    "shelter_df = pd.read_csv('https://data.austintexas.gov/api/views/9t4d-g238/rows.csv?accessType=DOWNLOAD')"
   ]
  },
  {
   "cell_type": "code",
   "execution_count": 113,
   "metadata": {},
   "outputs": [
    {
     "ename": "NameError",
     "evalue": "name 'animal_shelter_df' is not defined",
     "output_type": "error",
     "traceback": [
      "\u001b[1;31m---------------------------------------------------------------------------\u001b[0m",
      "\u001b[1;31mNameError\u001b[0m                                 Traceback (most recent call last)",
      "\u001b[1;32m<ipython-input-113-8a8f486cabde>\u001b[0m in \u001b[0;36m<module>\u001b[1;34m\u001b[0m\n\u001b[1;32m----> 1\u001b[1;33m \u001b[0mshelter_df\u001b[0m\u001b[1;33m.\u001b[0m\u001b[0mcolumns\u001b[0m \u001b[1;33m=\u001b[0m \u001b[1;33m[\u001b[0m\u001b[0mx\u001b[0m\u001b[1;33m.\u001b[0m\u001b[0mlower\u001b[0m\u001b[1;33m(\u001b[0m\u001b[1;33m)\u001b[0m\u001b[1;33m.\u001b[0m\u001b[0mreplace\u001b[0m\u001b[1;33m(\u001b[0m\u001b[1;34m' '\u001b[0m\u001b[1;33m,\u001b[0m\u001b[1;34m'_'\u001b[0m\u001b[1;33m)\u001b[0m \u001b[1;32mfor\u001b[0m \u001b[0mx\u001b[0m \u001b[1;32min\u001b[0m \u001b[0manimal_shelter_df\u001b[0m\u001b[1;33m.\u001b[0m\u001b[0mcolumns\u001b[0m\u001b[1;33m]\u001b[0m\u001b[1;33m\u001b[0m\u001b[1;33m\u001b[0m\u001b[0m\n\u001b[0m",
      "\u001b[1;31mNameError\u001b[0m: name 'animal_shelter_df' is not defined"
     ]
    }
   ],
   "source": [
    "shelter_df.columns = [x.lower().replace(' ','_') for x in animal_shelter_df.columns]"
   ]
  },
  {
   "cell_type": "code",
   "execution_count": null,
   "metadata": {},
   "outputs": [],
   "source": [
    "print(shelter_df.shape)\n",
    "animal_shelter_df.head()"
   ]
  },
  {
   "cell_type": "code",
   "execution_count": null,
   "metadata": {},
   "outputs": [],
   "source": []
  },
  {
   "cell_type": "code",
   "execution_count": null,
   "metadata": {},
   "outputs": [],
   "source": []
  },
  {
   "cell_type": "markdown",
   "metadata": {},
   "source": [
    "## Histogram\n",
    "Histograms are like barplots in the sense that it describe __one-dimensional__ data. A histogram divides the variable into bins, counts the number of observations in each bin, and shows the bins on the x-axis and the frequency on the y-axis. It is used for visualizing __continuous__ variables. <br>\n",
    "\n",
    "From the documentation: compute and draw the histogram of x. The return value is a tuple (__n, bins, patches__) or ([n0, n1, ...], bins, [patches0, patches1,...]) if the input contains multiple data."
   ]
  },
  {
   "cell_type": "markdown",
   "metadata": {},
   "source": [
    "<img src= 'images/histogram-basic-example.png' width =350/>"
   ]
  },
  {
   "cell_type": "code",
   "execution_count": 120,
   "metadata": {
    "scrolled": true
   },
   "outputs": [
    {
     "data": {
      "image/png": "[encoded data removed]",
      "text/plain": [
       "<Figure size 432x288 with 1 Axes>"
      ]
     },
     "metadata": {
      "needs_background": "light"
     },
     "output_type": "display_data"
    }
   ],
   "source": [
    "# Set seed for reproducability\n",
    "np.random.seed(2018)\n",
    "\n",
    "# Generate 1000 values from 0 standard normal distribution\n",
    "x = np.random.randn(100000)\n",
    "\n",
    "# Plot the distogram with hist() function\n",
    "plt.hist(x, bins=1000, color='purple')\n",
    "\n",
    "plt.xlabel('Normal random distribution')\n",
    "plt.ylabel('Frequency of Values')\n",
    "plt.title('Histograms')\n",
    "plt.show()"
   ]
  },
  {
   "cell_type": "code",
   "execution_count": 121,
   "metadata": {},
   "outputs": [
    {
     "data": {
      "image/png": "[encoded data removed]",
      "text/plain": [
       "<Figure size 720x576 with 1 Axes>"
      ]
     },
     "metadata": {
      "needs_background": "light"
     },
     "output_type": "display_data"
    }
   ],
   "source": [
    "# overlaid histograms for two distributions\n",
    "# plotting two histograms\n",
    "mu1, sigma1 = 0, 0.1  # mean and standard deviation\n",
    "s1 = np.random.normal(mu1, sigma1, 1000)\n",
    "mu2, sigma2 = 0.2, 0.1\n",
    "s2 = np.random.normal(mu2, sigma2, 1000)\n",
    "plt.figure(figsize=(10, 8))\n",
    "plt.hist(s1, bins=200, density=True, alpha=.5)\n",
    "plt.hist(s2, bins=200, density=True, alpha=.5)\n",
    "plt.show()"
   ]
  },
  {
   "cell_type": "markdown",
   "metadata": {},
   "source": [
    "## Scatterplot - visualizing two dimensional data\n",
    "Scatterplots are usually used for visualizing two dimensional data (observations with two variables). It allows us to examine the relationship between two variables, thus it is sometimes called a correlation plot. "
   ]
  },
  {
   "cell_type": "code",
   "execution_count": null,
   "metadata": {},
   "outputs": [],
   "source": [
    "# generate some data -> the sine wave\n",
    "x = np.linspace(0, 10, 30)\n",
    "y = np.sin(x)\n",
    "plt.scatter(x, y, label=\"Function: sin(x)\")\n",
    "plt.title('Scatter Plot in Matplotlib')\n",
    "plt.legend()\n",
    "plt.show()"
   ]
  },
  {
   "cell_type": "code",
   "execution_count": null,
   "metadata": {
    "scrolled": true
   },
   "outputs": [],
   "source": [
    "# examining correlation with height and weight\n",
    "height = [63, 62, 60, 63, 64, 65, 68, 67, 64, 71, 72, 70, 73]\n",
    "weight = [120, 115, 114, 119, 125, 130, 135, 140, 128, 140, 150, 165, 180]\n",
    "plt.scatter(height, weight, color='r')\n",
    "plt.show()"
   ]
  },
  {
   "cell_type": "markdown",
   "metadata": {},
   "source": [
    "## Pie Charts"
   ]
  },
  {
   "cell_type": "code",
   "execution_count": null,
   "metadata": {
    "scrolled": true
   },
   "outputs": [],
   "source": [
    "# pie chart\n",
    "music_genre = ['R&B', 'Rock', 'Country', 'House', 'Hip Pop', 'Techno']\n",
    "num_people_like = [15, 5, 3, 7, 18, 3]\n",
    "\n",
    "# Make your plot here\n",
    "plt.figure(figsize=(10, 8))\n",
    "plt.pie(num_people_like, labels=music_genre, autopct=\"%1d%%\")\n",
    "\n",
    "plt.axis('equal')\n",
    "plt.title('Music Preference')\n",
    "\n",
    "plt.show()"
   ]
  },
  {
   "cell_type": "markdown",
   "metadata": {},
   "source": [
    "![seaborn](https://d2h0cx97tjks2p.cloudfront.net/blogs/wp-content/uploads/sites/2/2018/07/seaborn.png) \n",
    "\n",
    "# The good, the bad, the seaborn\n",
    "\n",
    "\n",
    "\n",
    "[Data is ugly](https://www.reddit.com/r/dataisugly/)\n",
    "\n",
    "[Data is beatiful](https://www.reddit.com/r/dataisbeautiful/)\n",
    "\n",
    "Learning goals:\n",
    "\n",
    "- Create a list of best practices for data visualization\n",
    "- Identify the differences between matplotlib and seaborn\n",
    "- Create a visualization with seaborn, applying best practices"
   ]
  },
  {
   "cell_type": "markdown",
   "metadata": {},
   "source": [
    "## Best practices for data visualization\n",
    "\n",
    "Documenting best practices:\n",
    "\n",
    "After class, read these articles about the Dos and Don'ts of Visaulizations:\n",
    "- [article 1](https://www.jackhagley.com/What-s-the-difference-between-an-Infographic-and-a-Data-Visualisation)\n",
    "- [article 2](https://thoughtbot.com/blog/analyzing-minards-visualization-of-napoleons-1812-march)\n",
    "- [article 3](http://dataremixed.com/2016/04/the-design-of-everyday-visualizations/)\n",
    "- [article 4](https://visme.co/blog/data-storytelling-tips/)\n",
    "- [article 5](https://www.tableau.com/learn/articles/best-beautiful-data-visualization-examples)\n",
    "- [article 6](files/VisualizationsThatReallyWork.pdf)\n"
   ]
  },
  {
   "cell_type": "markdown",
   "metadata": {},
   "source": [
    "## Differences between seaborn & matplotlib\n",
    "\n",
    "\n",
    "### Two code examples to accomplish the same plot:\n",
    "\n",
    "**Resources:**\n",
    "- [python graph gallery on seaborn](https://python-graph-gallery.com/seaborn/)\n",
    "- [seaborn](https://seaborn.pydata.org/)\n"
   ]
  },
  {
   "cell_type": "code",
   "execution_count": 15,
   "metadata": {},
   "outputs": [],
   "source": [
    "import matplotlib.pyplot as plt\n",
    "import pandas as pd\n",
    "import seaborn as sns\n",
    "%matplotlib inline\n",
    "\n",
    "# Load in data\n",
    "tips = pd.read_csv(\"https://raw.githubusercontent.com/mwaskom/seaborn-data/master/tips.csv\")\n"
   ]
  },
  {
   "cell_type": "code",
   "execution_count": 17,
   "metadata": {},
   "outputs": [
    {
     "data": {
      "image/png": "[encoded data removed]",
      "text/plain": [
       "<Figure size 432x288 with 1 Axes>"
      ]
     },
     "metadata": {
      "needs_background": "light"
     },
     "output_type": "display_data"
    }
   ],
   "source": [
    "# Matplotlib:\n",
    "\n",
    "# Initialize Figure and Axes object\n",
    "fig, ax = plt.subplots()\n",
    "\n",
    "# Create violinplot\n",
    "ax.violinplot(tips[\"total_bill\"], vert=False)\n",
    "\n",
    "# Show the plot\n",
    "plt.show()"
   ]
  },
  {
   "cell_type": "code",
   "execution_count": 18,
   "metadata": {},
   "outputs": [
    {
     "data": {
      "image/png": "[encoded data removed]",
      "text/plain": [
       "<Figure size 432x288 with 1 Axes>"
      ]
     },
     "metadata": {
      "needs_background": "light"
     },
     "output_type": "display_data"
    }
   ],
   "source": [
    "# Seaborn:\n",
    "\n",
    "import matplotlib.pyplot as plt\n",
    "import seaborn as sns\n",
    "\n",
    "# Load the data\n",
    "tips = sns.load_dataset(\"tips\")\n",
    "# tips = pd.read_csv(\"https://raw.githubusercontent.com/mwaskom/seaborn-data/master/tips.csv\")\n",
    "\n",
    "# Create violinplot\n",
    "\n",
    "sns.violinplot(x = \"total_bill\", data=tips)\n",
    "\n",
    "# Show the plot\n",
    "plt.show()"
   ]
  },
  {
   "cell_type": "code",
   "execution_count": null,
   "metadata": {},
   "outputs": [],
   "source": []
  },
  {
   "cell_type": "code",
   "execution_count": 22,
   "metadata": {},
   "outputs": [
    {
     "data": {
      "image/png": "[encoded data removed]",
      "text/plain": [
       "<Figure size 485.359x216 with 2 Axes>"
      ]
     },
     "metadata": {
      "needs_background": "light"
     },
     "output_type": "display_data"
    }
   ],
   "source": [
    "g = sns.FacetGrid(tips, col=\"sex\", hue=\"smoker\")\n",
    "g.map(plt.scatter, \"total_bill\", \"tip\", alpha=.7)\n",
    "g.add_legend();"
   ]
  },
  {
   "cell_type": "code",
   "execution_count": 25,
   "metadata": {},
   "outputs": [
    {
     "name": "stderr",
     "output_type": "stream",
     "text": [
      "//anaconda3/lib/python3.7/site-packages/seaborn/axisgrid.py:728: UserWarning: Using the boxplot function without specifying `order` is likely to produce an incorrect plot.\n",
      "  warnings.warn(warning)\n"
     ]
    },
    {
     "data": {
      "image/png": "[encoded data removed]",
      "text/plain": [
       "<Figure size 576x288 with 4 Axes>"
      ]
     },
     "metadata": {
      "needs_background": "light"
     },
     "output_type": "display_data"
    }
   ],
   "source": [
    "g = sns.FacetGrid(tips, col=\"day\", height=4, aspect=.5)\n",
    "g.map(sns.boxplot, \"sex\", \"total_bill\");"
   ]
  },
  {
   "cell_type": "markdown",
   "metadata": {},
   "source": [
    "## Your turn: Create a visualization with seaborn, applying best practices\n",
    "\n",
    "[exercise from data world](https://data.world/makeovermonday/2018w37-paying-the-president)\n"
   ]
  },
  {
   "cell_type": "code",
   "execution_count": 26,
   "metadata": {},
   "outputs": [],
   "source": [
    "import pandas as pd\n",
    "df = pd.read_excel('https://query.data.world/s/5qxp2ldwsel3ow2pq5mkvfas2rfaup')\n"
   ]
  },
  {
   "cell_type": "code",
   "execution_count": null,
   "metadata": {},
   "outputs": [],
   "source": []
  },
  {
   "cell_type": "markdown",
   "metadata": {},
   "source": [
    "#### For extra fun:\n",
    "[visualization challenges](http://www.storytellingwithdata.com/blog/2019/3/1/swdchallenge-visualize-this-data)\n",
    "\n",
    "[seaborn cheatsheet](https://s3.amazonaws.com/assets.datacamp.com/blog_assets/Python_Seaborn_Cheat_Sheet.pdf)"
   ]
  }
 ],
 "metadata": {
  "kernelspec": {
   "display_name": "Python 3",
   "language": "python",
   "name": "python3"
  },
  "language_info": {
   "codemirror_mode": {
    "name": "ipython",
    "version": 3
   },
   "file_extension": ".py",
   "mimetype": "text/x-python",
   "name": "python",
   "nbconvert_exporter": "python",
   "pygments_lexer": "ipython3",
   "version": "3.6.9"
  },
  "toc": {
   "base_numbering": 1,
   "nav_menu": {},
   "number_sections": true,
   "sideBar": true,
   "skip_h1_title": false,
   "title_cell": "Table of Contents",
   "title_sidebar": "Contents",
   "toc_cell": false,
   "toc_position": {},
   "toc_section_display": true,
   "toc_window_display": false
  }
 },
 "nbformat": 4,
 "nbformat_minor": 4
}
