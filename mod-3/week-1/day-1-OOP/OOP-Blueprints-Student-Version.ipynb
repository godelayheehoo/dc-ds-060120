{
 "cells": [
  {
   "cell_type": "markdown",
   "metadata": {
    "cell_style": "center",
    "colab_type": "text",
    "id": "tevYHP-_8og5",
    "slideshow": {
     "slide_type": "slide"
    }
   },
   "source": [
    "# Intro to Object Oriented Programming"
   ]
  },
  {
   "cell_type": "markdown",
   "metadata": {
    "slideshow": {
     "slide_type": "slide"
    }
   },
   "source": [
    "__What is programming__?\n",
    "\n",
    "<img src='img/programming.png' width= 400>"
   ]
  },
  {
   "cell_type": "markdown",
   "metadata": {
    "slideshow": {
     "slide_type": "notes"
    }
   },
   "source": [
    "[Images Source: p174](https://www.py4e.com/book)\n",
    "__If this program doesn't run in your notebook don't try to fix it__\n"
   ]
  },
  {
   "cell_type": "markdown",
   "metadata": {
    "slideshow": {
     "slide_type": "slide"
    }
   },
   "source": [
    "## How is/was programming structured?"
   ]
  },
  {
   "cell_type": "markdown",
   "metadata": {
    "slideshow": {
     "slide_type": "fragment"
    }
   },
   "source": [
    "[Programming Paradigms](https://en.wikipedia.org/wiki/Programming_paradigm)"
   ]
  },
  {
   "cell_type": "markdown",
   "metadata": {
    "slideshow": {
     "slide_type": "skip"
    }
   },
   "source": [
    "[Imperative vs Declarative Programming](https://ui.dev/imperative-vs-declarative-programming/)"
   ]
  },
  {
   "cell_type": "markdown",
   "metadata": {
    "slideshow": {
     "slide_type": "slide"
    }
   },
   "source": [
    "## Some popular Languages and Their Programming Paradigm\n",
    "\n",
    "* Procedural: Just a bunch of code (runs downward) \n",
    "  - C, Lisp, Fortran \n",
    "  - GOTO\n",
    "* Functional: more mathematical\n",
    "  - Haskell, OCaml, [scala](https://en.wikipedia.org/wiki/Scala_(programming_language))\n",
    "* OOP\n",
    "  - Java, [Python](https://en.wikipedia.org/wiki/Python_(programming_language)), JavaScript"
   ]
  },
  {
   "cell_type": "markdown",
   "metadata": {
    "slideshow": {
     "slide_type": "slide"
    }
   },
   "source": [
    "## What is object oriented programming\n",
    "\n",
    "Object-oriented programming (OOP) is a programming paradigm based on the concept of \"objects\", which can contain data, in the form of fields (often known as attributes or properties), and code, in the form of procedures (often known as methods)."
   ]
  },
  {
   "cell_type": "markdown",
   "metadata": {
    "slideshow": {
     "slide_type": "fragment"
    }
   },
   "source": [
    "- Uses the concept of \"objects\" & \"classes\""
   ]
  },
  {
   "cell_type": "markdown",
   "metadata": {
    "slideshow": {
     "slide_type": "fragment"
    }
   },
   "source": [
    "- Ides: Class =  a mold or blueprint"
   ]
  },
  {
   "cell_type": "markdown",
   "metadata": {
    "cell_style": "split",
    "slideshow": {
     "slide_type": "slide"
    }
   },
   "source": [
    "<img src='http://www.expertphp.in/images/articles/ArtImgC67UTd_classes_and_objects.jpg' width= 450/>"
   ]
  },
  {
   "cell_type": "markdown",
   "metadata": {
    "cell_style": "split",
    "slideshow": {
     "slide_type": "fragment"
    }
   },
   "source": [
    "- Attributes of Mercedes:\n",
    "\n",
    "    - Let's fill out these together\n",
    "\n",
    "\n",
    "- Actions of Audi:\n",
    "\n",
    "    - Let's fill out these together"
   ]
  },
  {
   "cell_type": "markdown",
   "metadata": {
    "slideshow": {
     "slide_type": "slide"
    }
   },
   "source": [
    "## Creating A Class"
   ]
  },
  {
   "cell_type": "markdown",
   "metadata": {
    "slideshow": {
     "slide_type": "fragment"
    }
   },
   "source": [
    "\n",
    "- A class is an abstraction that helps programmers reuse code. \n",
    "- Code reuse is important because it frees us to solve interesting problems while allowing us to forget the details of the classes we use to solve a problem.\n"
   ]
  },
  {
   "cell_type": "markdown",
   "metadata": {
    "slideshow": {
     "slide_type": "slide"
    }
   },
   "source": [
    "### An Example"
   ]
  },
  {
   "cell_type": "code",
   "execution_count": 40,
   "metadata": {
    "slideshow": {
     "slide_type": "fragment"
    }
   },
   "outputs": [
    {
     "name": "stdout",
     "output_type": "stream",
     "text": [
      "<class '__main__.Student'>\n"
     ]
    }
   ],
   "source": [
    "import numpy as np\n",
    "\n",
    "class Student():\n",
    "    ## def __init__ method here\n",
    "    def __init__(self,name,last_name,week):\n",
    "        self.name=name\n",
    "        self.last_name=last_name\n",
    "        self.week=week\n",
    "    ## attributes are: name, last_name,  weeks\n",
    "student1=Student('James','Shaw',7)\n",
    "student2=Student('Dan','Hales',3)\n",
    "student3=Student('Murat','Guner','50')\n",
    "\n",
    "student3.week\n",
    "\n"
   ]
  },
  {
   "cell_type": "markdown",
   "metadata": {
    "slideshow": {
     "slide_type": "slide"
    }
   },
   "source": [
    "### Creating an Student Object (Instantiation)"
   ]
  },
  {
   "cell_type": "code",
   "execution_count": null,
   "metadata": {
    "slideshow": {
     "slide_type": "subslide"
    }
   },
   "outputs": [],
   "source": [
    "## Here Let's create our first student"
   ]
  },
  {
   "cell_type": "markdown",
   "metadata": {
    "slideshow": {
     "slide_type": "slide"
    }
   },
   "source": [
    "### Create Another Student Object"
   ]
  },
  {
   "cell_type": "code",
   "execution_count": 1,
   "metadata": {
    "slideshow": {
     "slide_type": "fragment"
    }
   },
   "outputs": [],
   "source": [
    "## Create student2 object\n",
    "\n",
    "## let's check some of the attributes"
   ]
  },
  {
   "cell_type": "markdown",
   "metadata": {
    "slideshow": {
     "slide_type": "slide"
    }
   },
   "source": [
    "### Adding `take_test` Method"
   ]
  },
  {
   "cell_type": "code",
   "execution_count": 27,
   "metadata": {
    "slideshow": {
     "slide_type": "subslide"
    }
   },
   "outputs": [],
   "source": [
    "## let's copy and paste our class before here and add take_test method\n",
    "import numpy as np\n",
    "\n",
    "class Student():\n",
    "    ## def __init__ method here\n",
    "    def __init__(self,name,last_name,week):\n",
    "        self.name=name\n",
    "        self.last_name=last_name\n",
    "        self.week=week\n",
    "    def take_test(self):\n",
    "        self.score=np.random.normal(loc=90,scale=3)\n",
    "## For a student take_test method will \n",
    "## randomly assign a number to student as test result\n",
    "\n",
    "student1=Student('Clair Marie','Wholean',7)\n",
    "student2=Student('Dan',\"Hales\",5)"
   ]
  },
  {
   "cell_type": "code",
   "execution_count": 28,
   "metadata": {},
   "outputs": [
    {
     "ename": "AttributeError",
     "evalue": "'Student' object has no attribute 'score'",
     "output_type": "error",
     "traceback": [
      "\u001b[1;31m---------------------------------------------------------------------------\u001b[0m",
      "\u001b[1;31mAttributeError\u001b[0m                            Traceback (most recent call last)",
      "\u001b[1;32m<ipython-input-28-ea93a4f212db>\u001b[0m in \u001b[0;36m<module>\u001b[1;34m\u001b[0m\n\u001b[1;32m----> 1\u001b[1;33m \u001b[0mstudent1\u001b[0m\u001b[1;33m.\u001b[0m\u001b[0mscore\u001b[0m\u001b[1;33m(\u001b[0m\u001b[1;33m)\u001b[0m\u001b[1;33m\u001b[0m\u001b[1;33m\u001b[0m\u001b[0m\n\u001b[0m",
      "\u001b[1;31mAttributeError\u001b[0m: 'Student' object has no attribute 'score'"
     ]
    }
   ],
   "source": [
    "student1.score()"
   ]
  },
  {
   "cell_type": "code",
   "execution_count": 29,
   "metadata": {},
   "outputs": [
    {
     "data": {
      "text/plain": [
       "89.35702889157962"
      ]
     },
     "execution_count": 29,
     "metadata": {},
     "output_type": "execute_result"
    }
   ],
   "source": [
    "student1.take_test()\n",
    "student1.score"
   ]
  },
  {
   "cell_type": "markdown",
   "metadata": {
    "slideshow": {
     "slide_type": "slide"
    }
   },
   "source": [
    "### Create `email` method"
   ]
  },
  {
   "cell_type": "code",
   "execution_count": 48,
   "metadata": {
    "slideshow": {
     "slide_type": "fragment"
    }
   },
   "outputs": [
    {
     "data": {
      "text/plain": [
       "'clair_marie.wholean@flatironschool.com'"
      ]
     },
     "execution_count": 48,
     "metadata": {},
     "output_type": "execute_result"
    }
   ],
   "source": [
    "## here let's create an email of the format name.last_name@Flatironschool.com\n",
    "class Student():\n",
    "    ## def __init__ method here\n",
    "    def __init__(self,name,last_name,week):\n",
    "        self.name=name\n",
    "        self.last_name=last_name\n",
    "        self.week=week\n",
    "       \n",
    "    def take_test(self):\n",
    "        self.score=np.random.normal(loc=90,scale=3)\n",
    "    def email(self):\n",
    "        self.email_=f'{self.name.lower()}.{self.last_name.lower()}@flatironschool.com'.replace(' ','_')\n",
    "        \n",
    "        #Best pratice dicates you call it \"self.email_\", not \"self.email\"\n",
    "## For a student take_test method will \n",
    "## randomly assign a number to student as test result\n",
    "\n",
    "student1=Student('Clair Marie','Wholean',7)\n",
    "student2=Student('Dan',\"Hales\",5)\n",
    "student2.email()\n",
    "student2.email_\n",
    "student1.email()\n",
    "student1.email_\n"
   ]
  },
  {
   "cell_type": "markdown",
   "metadata": {
    "slideshow": {
     "slide_type": "slide"
    }
   },
   "source": [
    "## Variables"
   ]
  },
  {
   "cell_type": "markdown",
   "metadata": {
    "slideshow": {
     "slide_type": "fragment"
    }
   },
   "source": [
    "### Global Variables"
   ]
  },
  {
   "cell_type": "code",
   "execution_count": 70,
   "metadata": {
    "slideshow": {
     "slide_type": "slide"
    }
   },
   "outputs": [
    {
     "name": "stdout",
     "output_type": "stream",
     "text": [
      "15\n"
     ]
    },
    {
     "data": {
      "text/plain": [
       "21"
      ]
     },
     "execution_count": 70,
     "metadata": {},
     "output_type": "execute_result"
    }
   ],
   "source": [
    "## create a global variable total_weeks\n",
    "class Student():\n",
    "    total_weeks=15\n",
    "    def __init__(self, name, last_name, week):\n",
    "        self.name = name\n",
    "        self.last_name = last_name\n",
    "        self.week = week\n",
    "        \n",
    "    def extend(self, extra):\n",
    "        self.week = self.week + extra\n",
    "        \n",
    "student1=Student('Murat','Guner',59)\n",
    "student1.total_weeks=3\n",
    "\n",
    "student2=Student('Clar Marie','Wholean',7)\n",
    "student2.total_weeks\n",
    "\n",
    "#So you can set it locally after instantiation.  \n",
    "student1.total_weeks=15\n",
    "\n",
    "#Redefining it for the class:\n",
    "Student.total_weeks=21\n",
    "\n",
    "print(student1.total_weeks)\n",
    "#But student1 is still set to 15 because it was set manually\n",
    "student1=Student('Murat',\"Guner\",\"59\")\n",
    "student1.total_weeks\n",
    "\n",
    "\n",
    "## create another method extend -- which extend's the total weeks three weeks"
   ]
  },
  {
   "cell_type": "markdown",
   "metadata": {
    "slideshow": {
     "slide_type": "slide"
    }
   },
   "source": [
    "## Inheritance"
   ]
  },
  {
   "cell_type": "code",
   "execution_count": 72,
   "metadata": {
    "slideshow": {
     "slide_type": "slide"
    }
   },
   "outputs": [],
   "source": [
    "class Student():\n",
    "    def __init__(self, name, last_name, week):\n",
    "        self.name = name\n",
    "        self.last_name = last_name\n",
    "        self.week = week\n",
    "        \n",
    "    def extend(self, extra):\n",
    "        self.week = self.week + extra\n",
    "\n",
    "class CohortMembers(Student):\n",
    "    pass"
   ]
  },
  {
   "cell_type": "markdown",
   "metadata": {},
   "source": [
    "# Inheritance"
   ]
  },
  {
   "cell_type": "code",
   "execution_count": 84,
   "metadata": {},
   "outputs": [],
   "source": [
    "class Student():\n",
    "    ## def __init__ method here\n",
    "    def __init__(self,name,last_name,week):\n",
    "        self.name=name\n",
    "        self.last_name=last_name\n",
    "        self.week=week\n",
    "       \n",
    "    def take_test(self):\n",
    "        self.score=np.random.normal(loc=90,scale=3)\n",
    "        return(self.score)\n",
    "    def email(self):\n",
    "        self.email_=f'{self.name.lower()}.{self.last_name.lower()}@flatironschool.com'.replace(' ','_')\n",
    "\n",
    "class CohortMembers(Student):\n",
    "    pass\n",
    "#Original used, to show it just takes the student stuff\n",
    "\n",
    "class CohortMembers(Student):\n",
    "    start_date=\"06.01.2020\"\n",
    "    cohort_name=\"marisa's ranbow chart\"\n",
    "    def graduation_time_left(self):\n",
    "        pass"
   ]
  },
  {
   "cell_type": "code",
   "execution_count": 85,
   "metadata": {
    "slideshow": {
     "slide_type": "subslide"
    }
   },
   "outputs": [],
   "source": [
    "cohort_1 =CohortMembers(\"Murat\", \"Guner\", 3)"
   ]
  },
  {
   "cell_type": "code",
   "execution_count": 86,
   "metadata": {
    "slideshow": {
     "slide_type": "fragment"
    }
   },
   "outputs": [
    {
     "data": {
      "text/plain": [
       "'Guner'"
      ]
     },
     "execution_count": 86,
     "metadata": {},
     "output_type": "execute_result"
    }
   ],
   "source": [
    "cohort_1.last_name"
   ]
  },
  {
   "cell_type": "code",
   "execution_count": 87,
   "metadata": {},
   "outputs": [
    {
     "data": {
      "text/plain": [
       "95.33215573937716"
      ]
     },
     "execution_count": 87,
     "metadata": {},
     "output_type": "execute_result"
    }
   ],
   "source": [
    "cohort_1.take_test()"
   ]
  },
  {
   "cell_type": "code",
   "execution_count": 88,
   "metadata": {
    "slideshow": {
     "slide_type": "fragment"
    }
   },
   "outputs": [
    {
     "data": {
      "text/plain": [
       "{'name': 'Murat', 'last_name': 'Guner', 'week': 3, 'score': 95.33215573937716}"
      ]
     },
     "execution_count": 88,
     "metadata": {},
     "output_type": "execute_result"
    }
   ],
   "source": [
    "cohort_1.__dict__"
   ]
  },
  {
   "cell_type": "code",
   "execution_count": 82,
   "metadata": {},
   "outputs": [
    {
     "name": "stdout",
     "output_type": "stream",
     "text": [
      "Help on CohortMembers in module __main__ object:\n",
      "\n",
      "class CohortMembers(Student)\n",
      " |  Method resolution order:\n",
      " |      CohortMembers\n",
      " |      Student\n",
      " |      builtins.object\n",
      " |  \n",
      " |  Methods inherited from Student:\n",
      " |  \n",
      " |  __init__(self, name, last_name, week)\n",
      " |      Initialize self.  See help(type(self)) for accurate signature.\n",
      " |  \n",
      " |  email(self)\n",
      " |  \n",
      " |  take_test(self)\n",
      " |  \n",
      " |  ----------------------------------------------------------------------\n",
      " |  Data descriptors inherited from Student:\n",
      " |  \n",
      " |  __dict__\n",
      " |      dictionary for instance variables (if defined)\n",
      " |  \n",
      " |  __weakref__\n",
      " |      list of weak references to the object (if defined)\n",
      "\n"
     ]
    }
   ],
   "source": [
    "help(cohort_1)"
   ]
  },
  {
   "cell_type": "markdown",
   "metadata": {
    "slideshow": {
     "slide_type": "slide"
    }
   },
   "source": [
    "## Sklearn Classes and Objects"
   ]
  },
  {
   "cell_type": "code",
   "execution_count": 108,
   "metadata": {},
   "outputs": [
    {
     "name": "stdout",
     "output_type": "stream",
     "text": [
      "[1. 2.]\n",
      "3.0000000000000018\n"
     ]
    }
   ],
   "source": [
    "import numpy as np\n",
    "from sklearn.linear_model import LinearRegression\n",
    "x=np.array([[1,1],[1,2],[2,2],[2,3]])\n",
    "y=np.dot(x,np.array([1,2]))+3\n",
    "\n",
    "lr=LinearRegression()\n",
    "\n",
    "lr.fit(x,y)\n",
    "print(lr.coef_)\n",
    "print(lr.intercept_)"
   ]
  },
  {
   "cell_type": "code",
   "execution_count": 109,
   "metadata": {},
   "outputs": [
    {
     "data": {
      "text/plain": [
       "array([ 6.,  8.,  9., 11.])"
      ]
     },
     "execution_count": 109,
     "metadata": {},
     "output_type": "execute_result"
    }
   ],
   "source": [
    "lr.predict(x)"
   ]
  },
  {
   "cell_type": "markdown",
   "metadata": {
    "slideshow": {
     "slide_type": "subslide"
    }
   },
   "source": [
    "[Linear Regression - Documentation](https://scikit-learn.org/stable/modules/generated/sklearn.linear_model.LinearRegression.html#sklearn.linear_model.LinearRegression)\n",
    "\n",
    "[Sklearn - Source Code](https://github.com/scikit-learn/scikit-learn/blob/fd237278e/sklearn/linear_model/_base.py#L389)\n",
    "\n",
    "[Modules vs Classes](https://www.tutorialspoint.com/python/python_modules.htm)\n",
    "\n",
    "[Ch-7 of Pyhton Programming Fundamentals](https://link.springer.com/book/10.1007%2F978-1-4471-6642-9)"
   ]
  },
  {
   "cell_type": "markdown",
   "metadata": {
    "slideshow": {
     "slide_type": "slide"
    }
   },
   "source": [
    "## Extra Resources"
   ]
  },
  {
   "cell_type": "markdown",
   "metadata": {
    "slideshow": {
     "slide_type": "fragment"
    }
   },
   "source": [
    "[A youtube playlist for OOP with Python](https://www.youtube.com/playlist?list=PL-osiE80TeTsqhIuOqKhwlXsIBIdSeYtc)\n",
    "\n",
    "[Imperative versus Declarative Programming](https://ui.dev/imperative-vs-declarative-programming/)\n",
    "\n",
    "[Wiki - Different Programming Paradigms](https://en.wikipedia.org/wiki/Programming_paradigm)"
   ]
  },
  {
   "cell_type": "markdown",
   "metadata": {
    "slideshow": {
     "slide_type": "slide"
    }
   },
   "source": [
    "## If Time Allows"
   ]
  },
  {
   "cell_type": "markdown",
   "metadata": {
    "slideshow": {
     "slide_type": "fragment"
    }
   },
   "source": [
    "[Introduction to ML-Thanks to Marisa](https://docs.google.com/presentation/d/1T13FnqceiuO-4cENaVZz_X5neVRGoj_Of8bQpy2d5Tg/edit?usp=sharing)"
   ]
  }
 ],
 "metadata": {
  "celltoolbar": "Slideshow",
  "colab": {
   "collapsed_sections": [
    "_OUAUdF5-p-x",
    "xgb4UxV__jQT",
    "oREms3u3-Q6L",
    "LOSB70AC_F55",
    "TXLmvlT__K9y",
    "I6d-VcuulhDy",
    "Ee-dPiBt_UzL",
    "odgi8E10AGuG",
    "Q-fmUUzu9sY8",
    "h-Fs0iZ0A-KW",
    "2rfQ_v1B9zWi",
    "3F4hBda4BLvO",
    "Z96XWroW-Cz-",
    "5s6MKqg8-jSz",
    "CyRRUQXr-oyY",
    "nCiOGnK8BaBK",
    "1x7jUYEF82N6",
    "Y-3m3MHuBUCn",
    "G39MRWq7QTkG"
   ],
   "name": "intro_object_oriented_programming.ipynb",
   "provenance": [],
   "version": "0.3.2"
  },
  "kernelspec": {
   "display_name": "Python 3",
   "language": "python",
   "name": "python3"
  },
  "language_info": {
   "codemirror_mode": {
    "name": "ipython",
    "version": 3
   },
   "file_extension": ".py",
   "mimetype": "text/x-python",
   "name": "python",
   "nbconvert_exporter": "python",
   "pygments_lexer": "ipython3",
   "version": "3.6.9"
  },
  "toc": {
   "base_numbering": 1,
   "nav_menu": {},
   "number_sections": true,
   "sideBar": true,
   "skip_h1_title": false,
   "title_cell": "Table of Contents",
   "title_sidebar": "Contents",
   "toc_cell": false,
   "toc_position": {},
   "toc_section_display": true,
   "toc_window_display": false
  },
  "varInspector": {
   "cols": {
    "lenName": 16,
    "lenType": 16,
    "lenVar": 40
   },
   "kernels_config": {
    "python": {
     "delete_cmd_postfix": "",
     "delete_cmd_prefix": "del ",
     "library": "var_list.py",
     "varRefreshCmd": "print(var_dic_list())"
    },
    "r": {
     "delete_cmd_postfix": ") ",
     "delete_cmd_prefix": "rm(",
     "library": "var_list.r",
     "varRefreshCmd": "cat(var_dic_list()) "
    }
   },
   "types_to_exclude": [
    "module",
    "function",
    "builtin_function_or_method",
    "instance",
    "_Feature"
   ],
   "window_display": false
  }
 },
 "nbformat": 4,
 "nbformat_minor": 2
}
