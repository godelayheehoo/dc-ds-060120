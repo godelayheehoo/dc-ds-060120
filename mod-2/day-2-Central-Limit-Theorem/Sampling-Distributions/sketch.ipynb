{
 "cells": [
  {
   "cell_type": "code",
   "execution_count": 40,
   "metadata": {},
   "outputs": [
    {
     "data": {
      "image/png": "[encoded data removed]",
      "text/plain": [
       "<Figure size 432x288 with 1 Axes>"
      ]
     },
     "metadata": {
      "needs_background": "light"
     },
     "output_type": "display_data"
    },
    {
     "name": "stdout",
     "output_type": "stream",
     "text": [
      "3.126388037344441e-17 2.9853706775114732\n",
      "0.9999999999999999 5.025601217798043\n"
     ]
    }
   ],
   "source": [
    "import numpy as np\n",
    "import matplotlib.pyplot as plt\n",
    "mu=3\n",
    "sigma=5\n",
    "x=np.random.normal(mu,sigma,10000)\n",
    "true_mu=x.mean()\n",
    "true_std=x.std()\n",
    "x2=np.array(list(map(lambda x_i: (x_i-true_mu)/(true_std), x)))\n",
    "\n",
    "plt.hist(x)\n",
    "plt.hist(x2)\n",
    "plt.show()\n",
    "print(x2.mean(),true_mu)\n",
    "print(x2.std(),true_std)"
   ]
  },
  {
   "cell_type": "code",
   "execution_count": 42,
   "metadata": {},
   "outputs": [
    {
     "name": "stdout",
     "output_type": "stream",
     "text": [
      "{\"lyrics\":\"Look at the stars\\r\\nlook how they shine for you\\r\\nand everything you do\\r\\n\\nyeah they were all yellow\\r\\nI came along \\nI wrote a song for you\\n\\nand all the things you do\\n\\nand it was called yellow\\n\\nSo then I took my turn \\n\\noh what a thing to have done\\n\\nand it was all yellow\\n\\n\\n\\nyour skin\\n\\noh yeah your skin and bones\\n\\nturn into something beautiful\\n\\nand you know\\n\\nyou know I love you so\\n\\nyou know I love you so\\n\\n\\n\\nI swam across\\n\\nI jumped across for you\\n\\noh what a thing to do\\n\\n'cos you were all yellow\\n\\nI drew a line\\n\\nI drew a line for you\\n\\noh what a thing to do\\n\\nand it was all yellow\\n\\n\\n\\nand your skin\\n\\noh yeah your skin and bones\\n\\nturn into something beautiful\\n\\nand you know\\n\\nfor you I bleed myself dry\\n\\nfor you I bleed myself dry\\n\\n\\n\\nit's true\\n\\nlook how they shine for you\\n\\nlook how they shine for you\\n\\nlook how they shine for\\n\\nlook how they shine for you\\n\\nlook how they shine for you\\n\\nlook how they shine\\n\\n\\n\\nlook at the stars\\n\\nlook how they shine for you\\n\\nand all the things that you do\"}\n",
      "{\"lyrics\":\"When you try your best but you don't succeed \\nWhen you get what you want but not what you need \\nWhen you feel so tired but you can't sleep \\n\\nStuck in reverse \\nAnd the tears come streaming down your face \\n\\nWhen you lose something you can't replace \\n\\nWhen you love someone but it goes to waste\\n\\nCould it be worse? \\n\\n\\n\\nLights will guide you home \\n\\nAnd ignite your bones \\n\\nAnd I will try to fix you \\n\\n\\n\\nHigh up above or down below \\n\\nWhen you're too in love to let it go \\n\\nBut if you never try you'll never know \\n\\nJust what you're worth \\n\\n\\n\\nLights will guide you home \\n\\nAnd ignite your bones \\n\\nAnd I will try to fix you \\n\\n\\n\\nTears stream down your face \\n\\nWhen you lose something you cannot replace \\n\\nTears stream down your face and I\\n\\n\\n\\nTears stream down your face \\n\\nI promise you I will learn from all my mistakes \\n\\nTears stream down your face and I\\n\\n\\n\\nLights will guide you home \\n\\nAnd ignite your bones \\n\\nAnd I will try to fix you\"}\n",
      "{\"lyrics\":\"The lights go out and I can't be saved\\r\\nTides that I tried to swim against\\r\\nHave brought me down upon my knees\\r\\n\\nOh I beg, I beg and plead, singing\\r\\nCome out of things unsaid\\n\\nShoot an apple off my head and a\\n\\nTrouble that can't be named\\n\\nA tiger's waiting to be tamed, singing\\n\\n\\n\\nYou are\\n\\nYou are\\n\\n\\n\\nConfusion never stops\\n\\nClosing walls and ticking clocks\\n\\nGonna come back and take you home\\n\\nI could not stop that you now know, singing\\n\\n\\n\\nCome out upon my seas\\n\\nCursed missed opportunities\\n\\nAm I a part of the cure?\\n\\nOr am I part of the disease? Singing\\n\\n\\n\\nYou are, you are, you are\\n\\nYou are, you are, you are\\n\\n\\n\\nAnd nothing else compares\\n\\nOh nothing else compares\\n\\nAnd nothing else compares\\n\\n\\n\\nHome, home where I wanted to go\\n\\nHome, home where I wanted to go\\n\\n\\n\\nHome, (you) home where I wanted to (are) go\\n\\nHome, (you) home where I wanted to (are) go\\n\\n\\n\\n\\n\\n(Thanks to MusicLoars and iheartpenguins113 for correcting these lyrics)\"}\n"
     ]
    }
   ],
   "source": [
    "import requests\n",
    "artist = \"coldplay\"\n",
    "songs = [\"yellow\", \"fix you\", \"clocks\"]\n",
    "\n",
    "for song in songs:\n",
    "    req = requests.get(f\"https://api.lyrics.ovh/v1/{artist}/{song}\")\n",
    "    print(req.text)"
   ]
  },
  {
   "cell_type": "code",
   "execution_count": null,
   "metadata": {},
   "outputs": [],
   "source": []
  }
 ],
 "metadata": {
  "kernelspec": {
   "display_name": "Python 3",
   "language": "python",
   "name": "python3"
  },
  "language_info": {
   "codemirror_mode": {
    "name": "ipython",
    "version": 3
   },
   "file_extension": ".py",
   "mimetype": "text/x-python",
   "name": "python",
   "nbconvert_exporter": "python",
   "pygments_lexer": "ipython3",
   "version": "3.6.9"
  }
 },
 "nbformat": 4,
 "nbformat_minor": 2
}
